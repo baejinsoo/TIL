{
 "cells": [
  {
   "cell_type": "code",
   "execution_count": 8,
   "metadata": {},
   "outputs": [],
   "source": [
    "import requests\n",
    "from bs4 import BeautifulSoup\n",
    "from urllib.parse import urljoin"
   ]
  },
  {
   "cell_type": "code",
   "execution_count": 2,
   "metadata": {},
   "outputs": [
    {
     "data": {
      "text/plain": [
       "'http://www.podbbang.com/podbbangchnew/episode_list?id=16255&page=1'"
      ]
     },
     "execution_count": 2,
     "metadata": {},
     "output_type": "execute_result"
    }
   ],
   "source": [
    "#여행바이러스 라디오(52건)\n",
    "page_url = \"http://www.podbbang.com/podbbangchnew/episode_list?id=16255&page=1\"\n",
    "#엄마의 미드공부(71건)\n",
    "#page_url = 'http://www.podbbang.com/podbbangchnew/episode_list?id=16524&page=1'\n",
    "page_url"
   ]
  },
  {
   "cell_type": "code",
   "execution_count": 4,
   "metadata": {},
   "outputs": [],
   "source": [
    "headers = {\n",
    "    'User-Agent': 'Mozilla/5.0 (Windows NT 10.0; Win64; x64) AppleWebKit/537.36 (KHTML, like Gecko) Chrome/65.0.3325.181 Safari/537.36',\n",
    "}\n",
    "r = requests.get(page_url,headers=headers)\n",
    "# 인코딩 설정\n",
    "r.encoding = \"utf-8\"\n",
    "html = r.text\n",
    "soup = BeautifulSoup(html,\"html.parser\")"
   ]
  },
  {
   "cell_type": "code",
   "execution_count": 14,
   "metadata": {},
   "outputs": [
    {
     "name": "stdout",
     "output_type": "stream",
     "text": [
      "46. 소소하게 여행중독 #2 : 문상건 작가의 아시아와 세이셸 http://www.podbbang.com/download?pid=16255&eid=22816888\n",
      "45. 소소하게 여행중독 - 문상건 작가의 인도 여행기 http://www.podbbang.com/download?pid=16255&eid=22810950\n",
      "44. 여행직업탐구 : 국외여행인솔자 뽀개기 feat. 서주희 http://www.podbbang.com/download?pid=16255&eid=22795328\n",
      "43. 코이카(KOICA) 뽀개기 feat.서주희 http://www.podbbang.com/download?pid=16255&eid=22792568\n",
      "42. 6개월 동안의 신혼여행 feat 밤송이 http://www.podbbang.com/download?pid=16255&eid=22786239\n",
      "춤추는 쥬디의 플래시몹 in 멕시코시티 http://www.podbbang.com/download?pid=16255&eid=22777956\n",
      "41. 춤추는 쥬디의 멕시코 여행 http://www.podbbang.com/download?pid=16255&eid=22777932\n",
      "40. 여행하다 배우다 : 남미에서 살사, 스페인어 정복하기 feat. 쥬디 http://www.podbbang.com/download?pid=16255&eid=22772684\n",
      "39. 불의 나라 아제르바이잔, 바람의 도시 바쿠 feat 바쿠소녀 송의영 http://www.podbbang.com/download?pid=16255&eid=22766327\n",
      "38. 조지아(Georgia)를 아시나요? feat 바쿠소녀 송의영 http://www.podbbang.com/download?pid=16255&eid=22760194\n"
     ]
    }
   ],
   "source": [
    "for li_tag in soup.select('li'):\n",
    "#     print(li_tag)\n",
    "    title = li_tag.find('dt')['title']\n",
    "    #유료인 경우 a tag가 없으므로 한번 체크를 해준다.\n",
    "    if li_tag.find('a'):\n",
    "        link = urljoin(page_url,li_tag.find('a')['href'])\n",
    "    else:\n",
    "        link = None\n",
    "    print(title,link)\n",
    "    \n",
    "    req_headers = {\n",
    "        'Referer': 'http://www.podbbang.com/ch/16255',\n",
    "        'User-Agent': 'Mozilla/5.0 (Windows NT 10.0; Win64; x64) AppleWebKit/537.36 (KHTML, like Gecko) Chrome/65.0.3325.181 Safari/537.36'\n",
    "    }\n",
    "    \n",
    "    if link:\n",
    "        mp3_bin = requests.get(link,headers=req_headers).content\n",
    "        title = clean_text(title)\n",
    "        file_name = '{}.mp3'.format(title)\n",
    "        with open('mp3/'+file_name,'wb') as f:\n",
    "            f.write(mp3_bin)"
   ]
  },
  {
   "cell_type": "code",
   "execution_count": 5,
   "metadata": {},
   "outputs": [],
   "source": [
    "import re\n",
    "# 클리닝 함수 (file에 특수문자가 있을 경우 )\n",
    "def clean_text(text):\n",
    "    text = text.replace(\"\\n\", \"\")\n",
    "    cleaned_text = re.sub('[\\{\\}\\[\\]\\/?.,;:|\\)*~`!^\\-_+<>@\\#$%&\\\\\\=\\(\\'\\\"]',\n",
    "                          '', text)\n",
    "    return cleaned_text"
   ]
  },
  {
   "cell_type": "code",
   "execution_count": 6,
   "metadata": {},
   "outputs": [
    {
     "data": {
      "text/plain": [
       "'김영철의 파워FM  진짜 미국식 영어 757회  Thanks  Cheers 고마워요'"
      ]
     },
     "execution_count": 6,
     "metadata": {},
     "output_type": "execute_result"
    }
   ],
   "source": [
    "clean_text('김영철의 파워FM - 진짜 미국식 영어 757회 - Thanks. / Cheers! (고마워요.)')"
   ]
  },
  {
   "cell_type": "code",
   "execution_count": 7,
   "metadata": {},
   "outputs": [
    {
     "data": {
      "text/plain": [
       "'조지아Georgia를 아시나요 feat 바쿠소녀 송의영'"
      ]
     },
     "execution_count": 7,
     "metadata": {},
     "output_type": "execute_result"
    }
   ],
   "source": [
    "clean_text('조지아(Georgia)를 아시나요? feat 바쿠소녀 송의영')"
   ]
  }
 ],
 "metadata": {
  "kernelspec": {
   "display_name": "Python 3",
   "language": "python",
   "name": "python3"
  },
  "language_info": {
   "codemirror_mode": {
    "name": "ipython",
    "version": 3
   },
   "file_extension": ".py",
   "mimetype": "text/x-python",
   "name": "python",
   "nbconvert_exporter": "python",
   "pygments_lexer": "ipython3",
   "version": "3.7.9"
  }
 },
 "nbformat": 4,
 "nbformat_minor": 2
}
