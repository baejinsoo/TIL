{
 "cells": [
  {
   "cell_type": "code",
   "execution_count": 8,
   "metadata": {},
   "outputs": [],
   "source": [
    "import json"
   ]
  },
  {
   "cell_type": "code",
   "execution_count": 56,
   "metadata": {},
   "outputs": [],
   "source": [
    "with open('/2nd_project/ingredient.json', 'r',encoding='UTF-8') as f:\n",
    "    json_data = json.load(f)"
   ]
  },
  {
   "cell_type": "code",
   "execution_count": 41,
   "metadata": {},
   "outputs": [],
   "source": [
    "# print(json_data)"
   ]
  },
  {
   "cell_type": "code",
   "execution_count": 57,
   "metadata": {},
   "outputs": [
    {
     "name": "stdout",
     "output_type": "stream",
     "text": [
      "<class 'str'> <class 'int'>\n",
      "{'시금치': 2, '양파': 3, '고구마': 4, '감자': 5, '파프리카': 6, '애호박': 7, '오이': 8, '당근': 9, '케일': 10, '브로콜리': 11, '근대': 12, '청경채': 13, '셀러리': 14, '깻잎': 15, '상추': 16, '마늘쫑': 17, '가지': 18, '무': 19, '미나리': 20, '양배추': 21, '피망': 22, '아스파라거스': 23, '연근': 24, '적채': 25, '우엉': 26, '대파': 27, '생강': 28, '마늘': 29, '부추': 30, '쑥갓': 31, '배추': 32, '아욱': 33, '고추': 34, '열무': 35, '치커리': 36, '더덕': 37, '도라지': 38, '죽순': 39, '토란': 40, '고사리': 41, '양상추': 42, '': 971, '비트': 44, '콜라비': 45, '냉이': 46, '콩나물': 47, '취나물': 48, '두릅': 49, '마': 50, '토마토': 51, '숙주': 52, '표고버섯': 53, '양송이버섯': 54, '팽이버섯': 55, '느타리버섯': 56, '목이버섯': 57, '새송이버섯': 58, '고등어': 59, '꽁치': 60, '연어': 61, '동태': 62, '쭈꾸미': 63, '낙지': 64, '오징어': 65, '가자미': 66, '갈치': 67, '대구': 68, '명태': 69, '병어': 70, '우럭': 71, '삼치': 72, '임연수': 73, '장어': 74, '전어': 75, '조기': 76, '문어': 77, '한치': 78, '새우': 79, '게': 80, '가리비': 81, '굴': 82, '꼬막': 83, '바지락': 84, '백합': 85, '전복': 86, '재첩': 87, '홍합': 88, '미더덕': 89, '다시마': 90, '미역': 91, '파래': 92, '매생이': 93, '톳': 94, '김': 95, '쌀': 96, '현미': 97, '보리': 98, '찹쌀': 99, '귀리': 100, '기장': 101, '수수': 102, '조': 103, '옥수수': 104, '율무': 105, '호밀': 106, '밀': 107, '완두콩': 108, '강낭콩': 109, '렌틸콩': 111, '검은콩': 112, '병아리콩': 113, '녹두': 114, '팥': 115, '돼지고기안심': 116, '돼지고기등심': 117, '돼지고기목심': 118, '돼지고기앞다리': 119, '돼지고기갈비': 120, '소고기안심': 121, '소고기등심': 122, '소고기사태': 123, '소고기갈비': 124, '소고기사골': 125, '닭고기': 126, '오리고기': 127, '감': 128, '감귤': 129, '금귤': 130, '다래': 131, '대추': 132, '라임': 133, '레몬': 134, '망고': 135, '매실': 136, '머루': 137, '멜론': 138, '모과': 139, '무화과': 140, '바나나': 141, '배': 142, '복분자': 143, '복숭아': 144, '블루베리': 145, '구아바': 146, '리치': 147, '크랜베리': 148, '체리': 149, '거봉': 150, '곶감': 151, '두리안': 152, '한라봉': 153, '청포도': 154, '딸기': 155, '버찌': 156, '비파': 157, '사과': 158, '살구': 159, '석류': 160, '수박': 161, '아보카도': 162, '앵두': 163, '오디': 164, '오렌지': 165, '오미자': 166, '유자': 167, '자두': 168, '참외': 169, '키위': 170, '탱자': 171, '파인애플': 172, '파파야': 173, '포도': 174, '올리브': 175, '코코넛': 176, '망고스틴': 177, '홍시': 178, '산수유': 179, '자몽': 180, '라즈베리': 181, '보리수': 182, '산딸기': 183, '땅콩': 184, '개암': 185, '도토리': 186, '밤': 187, '잣': 188, '은행': 189, '호박씨': 190, '헤이즐넛': 191, '캐슈넛': 192, '아몬드': 193, '호두': 194, '피스타치오': 195, '피칸': 196, '해바라기씨': 197, '버터': 198, '블루치즈': 199, '땅콩버터 ': 200, '치즈': 201, '스트링치즈': 202, '체다치즈': 203, '연유': 204, '파마산치즈': 205, '에멘탈치즈': 206, '까망베르치즈': 207, '크림치즈': 208, '요거트': 209, '브리치즈': 210, '마가린': 211, '모짜렐라치즈': 212, '하우다치즈': 213, '슬라이스치즈': 214, '마스카포네치즈': 215, '피자치즈': 216, '허브치즈': 217, '휘핑크림': 218, '달걀': 219, '오리알': 220, '메추리알': 221, '거위알': 222, '고춧가루': 224, '후춧가루': 225, '설탕': 226, '꿀': 227, '마요네즈': 228, '서덜': 229, '식초': 231, '토르티야': 232, '다진마늘': 233, '밀가루': 234, '고추기름': 237, '라이스페이퍼': 238, '라임즙': 239, '라조장': 241, '라즈베리잼': 242, '랍스타': 243, '래디시': 244, '레드와인': 246, '레드페퍼': 247, '레드비트': 248, '레몬즙': 250, '레몬청': 251, '로메인': 252, '로즈마리': 253, '롤라로사': 254, '롤치즈': 255, '루꼴라': 256, '리코타치즈': 257, '건새우': 259, '마론잼': 260, '건고추': 262, '건오징어': 263, '마카다미아': 264, '건홍합': 265, '스테이크소스': 266, '건고사리': 270, '건대추': 271, '건크랜베리': 272, '고다치즈': 274, '그라나파다노치즈': 275, '고운고춧가루': 276, '고르곤졸라치즈': 277, '곤약': 278, '곰취': 279, '굵은고춧가루': 281, '굵은소금': 282, '마카로니': 283, '막걸리': 284, '만가닥버섯': 285, '만두피': 286, '까나리액젓': 287, '맛살': 289, '깨': 290, '맛소금': 291, '맛술': 292, '꽈리고추': 293, '청양고추': 295, '망고잼': 296, '매실주': 298, '닭다리살': 299, '닭가슴살': 300, '닭안심': 301, '당면': 302, '맥주': 304, '대게': 305, '대하': 307, '대합': 308, '머위대': 310, '머윗잎': 311, '도루묵': 312, '멍게': 313, '메밀가루': 314, '메밀묵': 316, '메이플시럽': 319, '멸치': 320, '돼지고기항정살': 321, '명란': 322, '두부': 323, '두유': 324, '호박': 325, '들기름': 327, '단호박': 328, '닭똥집': 329, '멥쌀': 330, '도토리묵': 331, '멥쌀가루': 332, '멸치액젓': 333, '돼지고기사태': 335, '돼지고기삼겹살': 336, '들깨가루': 337, '명이나물': 338, '무순': 339, '멸치 육수': 340, '물엿': 341, '명란젓': 342, '미림': 343, '명엽채': 344, '민어': 345, '밀가루중력분': 346, '밀가루박력분': 347, '국간장': 349, '깨소금': 350, '명태포': 351, '모닝빵': 352, '메밀면': 354, '늙은호박': 355, '달래': 357, '무슈구슈': 358, '무쌈': 359, '디포리': 362, '물메기': 363, '미숫가루': 364, '방울양배추': 365, '물김': 366, '바질': 367, '미꾸라지': 368, '밀가루강력분': 369, '반건조오징어': 370, '방울토마토': 371, '미니단호박': 372, '베이킹파우더': 373, '미소된장': 374, '미역귀': 375, '미역줄기': 376, 'MSG': 378, '간장': 379, '감식초': 380, '민트': 381, '감자전분': 383, '밀싹': 384, '바게트': 386, '부침가루': 387, '바닐라에센스': 388, '바닐라오일': 389, '새우젓': 390, '쌀가루': 391, '샐러리': 392, '발사믹식초': 393, '밤고구마': 394, '방아잎': 395, '방풍나물': 396, '배추김치': 398, '백련초가루': 399, '백도복숭아': 400, '백태': 401, '화이트와인': 402, '뱅어포': 403, '번데기': 404, '베이글': 405, '베이컨': 406, '베이크드빈': 407, '보드카': 408, '보리새우': 410, '복분자주': 413, '복분자청': 414, '복숭아잼': 415, '봄동': 417, '백후추': 419, '백미': 420, '소고기앞다리': 421, '북어': 422, '북어포': 423, '호부추': 425, '붕장어': 426, '팔각': 427, '브랜디': 428, '블루베리잼': 429, '비름': 431, '포도씨유': 432, '비엔나소세지': 433, '비지': 434, '빙어': 435, '빵가루': 436, '소라': 437, '사과잼': 438, '라면': 441, '사이다': 442, '강황': 444, '살구잼': 445, '페페론치노고추': 447, '아마씨유': 448, '아구': 449, '아라잔': 450, '새우액젓': 452, '감초': 453, '새조개': 454, '생강가루': 455, '건블루베리': 456, '다진생강': 457, '생강즙': 458, '생강청': 459, '건포도': 460, '골뱅이': 461, '건표고버섯': 462, '초석잠': 463, '겨자': 465, '치아씨드': 466, '치킨스톡': 467, '칡': 468, '카놀라유': 469, '카레': 470, '계피가루': 471, '고추장': 473, '골드키위': 474, '골뱅이통조림': 475, '흑임자': 476, '굴소스': 477, '흑설탕': 478, '꽁치통조림': 479, '꽃게': 480, '흑초': 481, '날치알': 482, '백설탕': 483, '데리야끼소스': 484, '생크림': 485, '생태포': 486, '돼지고기': 487, '소고기선지': 488, '두반장': 489, '할라피뇨': 490, '서대': 491, '딸기잼': 492, '석이버섯': 493, '파인애플통조림': 494, '소고기': 495, '단무지': 496, '소금': 497, '순두부': 498, '포항초': 499, '옥수수통조림': 500, '포트와인': 501, '시래기': 502, '식빵': 503, '식용유': 504, '실파': 505, '쑥': 506, '피클링스파이스': 508, '하몬': 509, '소고기우둔살': 511, '소고기채끝': 512, '함초': 513, '핫소스': 514, '칠리소스': 515, '해바라기씨유': 516, '해선장': 517, '해파리': 518, '허니머스터드': 519, '갯나물': 520, '소고기목심': 521, '소면': 523, '황금송이버섯': 524, '화이트초콜릿': 525, '황설탕': 526, '황태': 527, '후리카케': 528, '홍삼': 529, '홍삼진액': 530, '돼지고기홍두깨살': 532, '홍어': 533, '홍차': 534, '허브솔트': 535, '현미식초': 538, '호박고구마': 539, '꽃소금': 540, '녹차가루': 541, '다크초콜릿': 542, '통깨': 543, '천일염': 545, '슈가파우더': 546, '양조간장': 547, '어묵': 548, '청포묵': 550, '오레가노': 551, '흑미': 553, '키조개': 554, '춘권피': 556, '초콜릿': 557, '칠리오일': 558, '칠리파우더': 559, '카야잼': 561, '참치통조림': 562, '칵테일새우': 563, '인삼': 564, '이스트': 565, '이탈리안시즈닝': 566, '인스턴트드라이이스트': 567, '인스턴트커피': 568, '잎새버섯': 569, '옥수수전분': 570, '진미채': 571, '오트밀': 572, '옥돔': 573, '올리브유': 574, '올리고당': 575, '참송이버섯': 576, '와사비': 577, '용과': 578, '소주': 579, '영양부추': 580, '아이스플랜트': 581, '알감자': 582, '알배기배추': 583, '안초비': 584, '야콘': 585, '애느타리버섯': 586, '양미리': 587, '애플망고': 588, '양조식초': 589, '애플민트': 590, '양파즙': 592, '어간장': 594, '얼갈이배추': 595, '어린잎채소': 596, '연겨자': 597, '여주': 598, '에스프레소': 599, '연어통조림': 600, '연잎': 602, '올방개묵': 605, '베트남고추': 607, '월계수잎': 608, '유부': 609, '육포': 611, '자색고구마': 612, '자색양파': 613, '자색감자': 614, '자색양배추': 615, '적겨자': 616, '제빵개량제': 617, '정종': 618, '정향': 619, '젤라틴': 620, '솔잎': 621, '송어': 622, '후르츠통조림': 623, '훈제연어': 624, '머스터드': 627, '햄': 628, '해삼': 629, '피시소스': 630, '피자소스': 631, '피클': 632, '하겔슈가': 635, '햄통조림': 637, '핫케이크가루': 638, '호떡믹스': 641, '풋고추': 643, '폰즈소스': 645, '퀴노아': 646, '콜라': 647, '콜리플라워': 648, '콩고기': 649, '큐민': 650, '콩비지': 651, '큐브참치통조림': 652, '타임': 654, '탄산수': 655, '탈지분유': 656, '토마토페이스트': 657, '태국고추': 658, '참치': 659, '참기름': 660, ' 참깨': 661, '참나물': 662, '참치액': 665, '찹쌀가루': 667, '천도복숭아': 668, '천혜향': 669, '청국장': 670, '청귤': 671, '청양고춧가루': 673, '쇼트닝': 674, '수박껍질': 675, '취청오이': 676, '잔멸치': 677, '저지방우유': 679, '약콩': 680, '양고기갈비': 681, '연두부': 683, '순대': 684, '순무': 685, '스위티': 686, '아몬드슬라이스': 689, '아오리사과': 690, '아가베시럽': 693, '아로니아': 694, '아몬드가루': 696, '씀바귀': 697, '오디진액': 698, '오렌지술': 699, '오골계': 700, '오만둥이': 701, '파슬리': 702, '트러플쉘': 704, '트레비소': 705, '트리몰린': 706, '파르팔레파스타면': 707, '슬라이스햄': 708, '파프리카파우더': 709, '페타치즈': 710, '페투치네파스타면': 712, '캐러멜': 714, '고등어통조림': 715, '실고추': 716, '고수': 717, '캡사이신소스': 718, '케이퍼': 719, '쌀국수면': 720, '코다리': 721, '코코넛밀크': 722, '케찹': 724, '코코넛오일': 725, '코코아': 726, '콩기름': 728, '토판염': 729, '토장': 731, '토마토소스': 732, '토하젓': 733, '튀김가루': 734, '스파게티면': 735, '조선간장': 736, '조개젓': 737, '조청': 738, '쥐똥고추': 739, '토란대': 740, '코코넛설탕': 741, '치자': 742, '소고기차돌박이': 744, '차이브': 745, '쯔유': 746, '아마씨': 747, '암게': 748, '오징어젓': 751, '요거트파우더': 752, '우렁': 753, '우스타소스': 754, '원추리': 755, '쪽파': 757, '홀스래디쉬소스': 758, '혼다시': 759, '고추씨': 761, '쌈장': 765, '우뭇가사리': 768, '쥐포': 769, '당조고추': 771, '닭가슴살통조림': 772, '황석어젓': 774, '황태포': 775, '황도복숭아': 776, '홀그레인머스터드': 777, '프랑크소시지': 780, '가죽나물': 781, '곤드레나물': 783, '노각': 784, '누룽지': 785, ' 다시다 ': 786, '당귀': 787, '초간장': 790, '차조': 791, '디종머스터드': 792, '가오리': 794, '낫토': 795, '깔루아': 797, '천사채': 798, '과메기': 800, '고구마줄기': 801, '넛맥': 802, '광어': 803, '닭봉': 804, '돼지고기껍데기': 805, '돼지감자': 806, '도다리': 808, '돌미나리': 809, '다홍채': 810, '도미': 811, '다슬기': 812, '능이버섯': 813, '다마리간장': 814, '농어': 815, '노루궁뎅이버섯': 816, '노가리': 817, '나초': 819, '굴비': 821, '그릭요거트': 822, '구기자': 823, '고구마전분': 824, '고구마순': 825, '건무화과': 826, '돼지고기갈매기살': 828, '럼주': 831, '요구르트': 832, '쥬키니호박': 833, '아삭이고추': 834, '메밀': 836, '초록입홍합': 837, '관자': 838, '돼지고기뒷다리': 839, '견과류': 840, '사우전아일랜드': 842, '매실액': 843, '초고추장': 845, '청주': 846, '배즙': 847, '된장': 848, '요리용 떡': 849, '돼지등갈비': 850, '소고기다짐육': 852, '맛간장': 853, '참타리버섯': 854, '찹쌀현미': 855, '통후추': 857, '건다시마': 858, '우동면': 859, '중하': 860, '적양배추 ': 862, '캐러멜소스': 863, '블랙올리브': 864, '스파게티소스': 865, '드라이이스트': 866, '새우살': 867, '파마산치즈가루': 868, '분유': 869, '옥수수가루': 871, '코코아가루': 872, '보리가루': 873, '통밀가루': 874, '머위': 875, '쌀뜨물': 876, '무말랭이 ': 877, '제피가루 ': 878, '다크커버춰초콜릿': 879, '쑥부쟁이': 880, '구운소금': 881, '총각무': 882, '말차가루': 883, '바닐라익스트랙': 884, '바닐라빈 ': 885, '분당': 886, '백아몬드': 887, '우거지': 888, '초코청크': 889, '크림캐러멜': 890, '체리잼': 891, '아몬드분태': 892, '아이스크림': 893, '바질페스토': 894, '사워크림': 895, '소고기국거리': 896, '무염버터 ': 898, '마늘종': 899, '쫄면': 900, '동태포': 901, '초콜릿칩': 902, '카카오닙': 903, '스프링클': 904, '땅콩분태 ': 905, '펄슈가': 906, '팥앙금': 907, '팥배기': 908, '레몬주스': 909, '파르메자노치즈': 910, '버섯': 911, '실곤약': 912, '양갱': 913, '돼지고기다짐육': 914, '도토리가루': 915, '쿠킹스위트 ': 916, '모닝고추 ': 917, '밀글루텐': 918, '샤프인스턴트': 919, '파스타면': 920, '캐비아': 921, '샐러드 채소': 922, '묵은지': 923, '자이로과당': 924, '갓': 925, '사과식초 ': 926, '바닐라럼주': 927, '소고기불고기': 929, '돼지고기등뼈': 930, '녹미': 934, '건아로니아': 935, '조개': 936, '오리고기훈제': 937, '매실청': 938, '액젓': 939, '베이킹소다': 940, '실치': 942, '황기': 944, '무싹': 945, '타르타르소스': 946, '나도팽나무버섯': 947, '미니사과': 948, '유채나물': 949, '식용색소': 950, '레몬제스트': 951, '크림파티쉐': 952, '김치': 953, '호박고지': 954, '한천': 955, '밤호박': 956, '피조개': 957, '소고기살치살': 958, '사과즙': 959, '생강술': 960, '노추소스': 961, '말린취나물': 962, '대패삼겹살': 963, '미니새송이버섯': 965, '조미김': 966, '밥새우': 967, '소고기안창살': 968, '메로': 969, '떡볶이떡': 972, '황태채': 973, '만두 ': 974, '시판 치킨': 975, '고춧잎': 976, '무청': 977, '돈가스': 978, '사골곰탕 ': 979, '유자청': 980, '다시마육수 ': 981, '엔다이브': 982, '꼬시래기': 983, '크래커': 984, '분모자 당면': 985, '케이준시즈닝': 986, '케이엔 페퍼': 987, '양파 가루': 988, '마늘 가루': 989, '꼬투리강낭콩': 990, '와플': 991, '김치용 풀': 992, '에그베네딕트용 빵': 993, '열빙어': 994, '물': 995, '멸치가루': 996, '누텔라': 997, '즉석밥': 998, '돌나물': 999, '닭육수': 1000, '홀토마토': 1001, '칼국수': 1002, '열무김치': 1003, '콩가루': 1004, '풋마늘': 1005, '스리라차소스': 1006, '갓김치': 1007, '자일로스설탕': 1008, '돈가스소스': 1009, '오이지': 1010, '발사믹크림': 1011, '호박잎': 1012, '전분물': 1013, '조랭이떡': 1014, '육수': 1015, '레시피마다달라요!': 1016, '만능간장': 1017, '천연조미료': 1018, '채소': 1019, '양념장': 1020, '시럽': 1021, '원당': 1022, '불고기': 1023, '쌈채소': 1024, '잡채': 1025, '과일': 1026, '해물믹스': 1027, '짜장가루': 1028, '칼라플라워': 1029}\n"
     ]
    }
   ],
   "source": [
    "new_dict = {}\n",
    "for i in range(len(json_data)):\n",
    "    new_list = []\n",
    "    for k,v in json_data[i].items():\n",
    "        new_list.append(v)\n",
    "    new_dict[new_list[1]] = new_list[0]\n",
    "print(type(new_list[1]),type(new_list[0]))\n",
    "print(new_dict)"
   ]
  },
  {
   "cell_type": "code",
   "execution_count": null,
   "metadata": {},
   "outputs": [],
   "source": []
  },
  {
   "cell_type": "code",
   "execution_count": 50,
   "metadata": {},
   "outputs": [],
   "source": [
    "temp_dict = {'name': '양파',\n",
    "            'id':30}"
   ]
  },
  {
   "cell_type": "code",
   "execution_count": 58,
   "metadata": {},
   "outputs": [
    {
     "name": "stdout",
     "output_type": "stream",
     "text": [
      "3\n"
     ]
    }
   ],
   "source": [
    "print(new_dict[str(temp_dict['name'])])"
   ]
  },
  {
   "cell_type": "code",
   "execution_count": 71,
   "metadata": {},
   "outputs": [
    {
     "name": "stdout",
     "output_type": "stream",
     "text": [
      "tr\n"
     ]
    }
   ],
   "source": [
    "if '설탕' in new_dict.keys():\n",
    "    print(\"tr\")\n",
    "else:\n",
    "    print('fa')"
   ]
  },
  {
   "cell_type": "code",
   "execution_count": null,
   "metadata": {},
   "outputs": [],
   "source": []
  },
  {
   "cell_type": "code",
   "execution_count": null,
   "metadata": {},
   "outputs": [],
   "source": []
  },
  {
   "cell_type": "code",
   "execution_count": 60,
   "metadata": {},
   "outputs": [],
   "source": [
    "import requests\n",
    "from bs4 import BeautifulSoup\n",
    "from urllib.parse import urljoin\n",
    "import re\n",
    "import json\n",
    "import urllib.request"
   ]
  },
  {
   "cell_type": "code",
   "execution_count": 90,
   "metadata": {},
   "outputs": [
    {
     "name": "stdout",
     "output_type": "stream",
     "text": [
      "{'id': 0, 'name': '파채로 비린내로 잡은 고등어요리! 저녁 추천메뉴! 파채고등어강정 ♥', 'thumbnail': 'https://recipe1.ezmember.co.kr/cache/recipe/2020/09/22/600b236f7197125dc956fe7ad73aead21.jpg', 'url': 'https://www.10000recipe.com/recipe/6942981', 'ingredient_ids': [59, 379, 575, 226, 457], 'time': '30', 'ingre_list': [{'ingre_name': '고등어', 'ingre_count': '2', 'ingre_unit': '마리'}, {'ingre_name': '파채', 'ingre_count': '1', 'ingre_unit': '줌'}, {'ingre_name': '전분', 'ingre_count': '', 'ingre_unit': '적당량'}, {'ingre_name': '간장', 'ingre_count': '3', 'ingre_unit': '숟가락'}, {'ingre_name': '올리고당', 'ingre_count': '1', 'ingre_unit': '숟가락'}, {'ingre_name': '맛술1+1/2숟가락', 'ingre_count': '1+1/2', 'ingre_unit': '숟가락'}, {'ingre_name': '설탕', 'ingre_count': '1/2', 'ingre_unit': '숟가락'}, {'ingre_name': '후추', 'ingre_count': '', 'ingre_unit': '약간'}, {'ingre_name': '다진생강', 'ingre_count': '1/3', 'ingre_unit': '숟가락'}], 'recipe': ['1. 볼에 양념 재료를 넣고 양념장을 만든다.', '2. 고등어의 전분가루를 묻힌다.', '3. 팬에 기름을 넉넉히 두르고 고등어를 튀긴다.', '4. 팬에 양념장을 넣고 끓으면 고등어를 넣는다.', '5. 파채를 곁들여 완성한다.'], 'recipe_img': ['https://recipe1.ezmember.co.kr/cache/recipe/2020/09/22/0f840c9eade9140ba8ead1bec494ddf51.jpg', 'https://recipe1.ezmember.co.kr/cache/recipe/2020/09/22/ef75e1b09a199f8bcb7d58cbfbe54f621.jpg', 'https://recipe1.ezmember.co.kr/cache/recipe/2020/09/22/29dd54f36481bc6ba13a9398f53ac06b1.jpg', 'https://recipe1.ezmember.co.kr/cache/recipe/2020/09/22/6d2bd83bcd83e1b393903913ab26fb8f1.jpg', 'https://recipe1.ezmember.co.kr/cache/recipe/2020/09/22/3d95e063b6732e703fb7010a5a9026011.jpg']}\n"
     ]
    }
   ],
   "source": [
    "url = 'https://www.10000recipe.com/recipe/6942981'\n",
    "response = requests.get(url)\n",
    "html = response.text\n",
    "soup = BeautifulSoup(html, 'html.parser')\n",
    "    \n",
    "#menu name\n",
    "res = soup.find('div', 'view2_summary')\n",
    "res = res.find('h3')\n",
    "menu_name = res.get_text().replace('\\n',' ').replace('\"','')\n",
    "\n",
    "#menu image\n",
    "res = soup.find('div', 'centeredcrop')\n",
    "res = res.find('img')\n",
    "menu_img = res.get('src')\n",
    "\n",
    "# ingredients\n",
    "res = soup.find('div','ready_ingre3')\n",
    "ingre_dict = {}\n",
    "ingre_list = []\n",
    "new_id = []\n",
    "try:\n",
    "    for n in res.find_all('ul'):\n",
    "        for tmp in n.find_all('li'):\n",
    "            ingredient_name = tmp.get_text().replace('\\n','').replace(' ','')\n",
    "            count = tmp.find('span')\n",
    "            ingredient_tmp = count.get_text()\n",
    "            ingredient_name = re.sub(ingredient_tmp, '',ingredient_name)\n",
    "            ingredient_unit = ingredient_tmp.replace('/','').replace('+','')\n",
    "            ingredient_unit = ''.join([i for i in ingredient_unit if not i.isdigit()])\n",
    "            ingredient_count = re.sub(ingredient_unit, '', ingredient_tmp)\n",
    "\n",
    "            ingre_dict = {\"ingre_name\": ingredient_name,\n",
    "                         \"ingre_count\": ingredient_count,\n",
    "                         \"ingre_unit\": ingredient_unit}\n",
    "            \n",
    "            if ingredient_name in new_dict.keys():\n",
    "                new_id.append(new_dict[str(ingredient_name)])\n",
    "            ingre_list.append(ingre_dict)\n",
    "except(AttributeError):\n",
    "    pass\n",
    "\n",
    "# 요리시간\n",
    "res = soup.find('span', 'view2_summary_info2')\n",
    "time = res.get_text().replace('이내','').replace('분','').replace(' ','').replace('시간','')\n",
    "\n",
    "# 조리 방법+이미지\n",
    "recipe_list = []\n",
    "recipe_dict = []\n",
    "recipe_imges = []\n",
    "res = soup.find('div','view_step')\n",
    "ind = 1\n",
    "for n in res.find_all('div', 'view_step_cont', 'media-body'):\n",
    "    recipe_step_txt = n.get_text().replace('\\n',' ')\n",
    "    recipe_dict = {\"txt\":recipe_step_txt}\n",
    "    recipe_list.append(str(ind) + '. ' + recipe_step_txt)\n",
    "    ind += 1\n",
    "    \n",
    "for n in res.find_all('div', 'view_step_cont', 'media-right'):\n",
    "    res = n.find('img')\n",
    "    recipe_imges.append(res.get('src'))\n",
    "    \n",
    "    \n",
    "food_dict = {\"id\":0,\n",
    "            \"name\":menu_name,\n",
    "            \"thumbnail\":menu_img,\n",
    "            \"url\":url,\n",
    "             \"ingredient_ids\":new_id,\n",
    "            \"time\":time,\n",
    "            \"ingre_list\":ingre_list,\n",
    "            \"recipe\":recipe_list,\n",
    "            \"recipe_img\":recipe_imges}\n",
    "print(food_dict)"
   ]
  },
  {
   "cell_type": "code",
   "execution_count": 76,
   "metadata": {},
   "outputs": [],
   "source": [
    "file_path = '/2nd_project/recipe_example.json'\n",
    "def toJson(recipe_dict):\n",
    "    with open(file_path, 'w', encoding='utf-8') as file:\n",
    "        json.dump(recipe_dict, file, ensure_ascii=False, indent='\\t')\n"
   ]
  },
  {
   "cell_type": "code",
   "execution_count": null,
   "metadata": {},
   "outputs": [],
   "source": [
    "toJson()"
   ]
  },
  {
   "cell_type": "code",
   "execution_count": 104,
   "metadata": {},
   "outputs": [
    {
     "name": "stdout",
     "output_type": "stream",
     "text": [
      "{'id': 2, 'name': '칼칼한 맛이 당길때 백종원의 감자고추장찌개 어떠세요???', 'thumbnail': 'https://recipe1.ezmember.co.kr/cache/recipe/2016/05/30/4512914b3a3c9835075143f32fb34efd1.jpg', 'url': 'https://www.10000recipe.com/recipe/6850175', 'ingredient_ids': [473, 660, 504, 5, 3, 27, 295, 56, 495, 233, 349, 333], 'time': '30', 'ingre_list': [{'ingre_name': '고추장', 'ingre_count': '1', 'ingre_unit': '큰술'}, {'ingre_name': '참기름', 'ingre_count': '2', 'ingre_unit': '큰술'}, {'ingre_name': '식용유', 'ingre_count': '2', 'ingre_unit': '큰술'}, {'ingre_name': '고추가루', 'ingre_count': '1', 'ingre_unit': '큰술'}, {'ingre_name': '감자', 'ingre_count': '', 'ingre_unit': ''}, {'ingre_name': '양파', 'ingre_count': '', 'ingre_unit': ''}, {'ingre_name': '대파', 'ingre_count': '', 'ingre_unit': ''}, {'ingre_name': '청양고추', 'ingre_count': '', 'ingre_unit': ''}, {'ingre_name': '느타리버섯', 'ingre_count': '', 'ingre_unit': ''}, {'ingre_name': '소고기', 'ingre_count': '', 'ingre_unit': ''}, {'ingre_name': '칼국수사리면', 'ingre_count': '', 'ingre_unit': ''}, {'ingre_name': '다진마늘', 'ingre_count': '1', 'ingre_unit': '큰술'}, {'ingre_name': '국간장', 'ingre_count': '4', 'ingre_unit': '큰술'}, {'ingre_name': '멸치액젓', 'ingre_count': '1', 'ingre_unit': '큰술'}], 'recipe': ['1. 감자는 한입 크기로 도톰하게 썰어 준비해주시고 느타리버섯도 준비해주세요~', '2. 팬에 참기름 2큰술, 식용유 2큰술, 고추장 1큰술을 넣어 약한불에서 타지않도록 볶아줍니다~', '3. 고추기름이 올라오기 시작하면 고추가루 1큰술을 넣어 볶으시다가 거품이 올라오기 시작하면 물 500ml를 넣어주세요~', '4. 감자와 소고기를 넣고 센불에서 끓이기 시작합니다~ 국물의 색을 보시고 취향에 맞게 고추가루를 추가하셔도 되고요~ㅎㅎㅎ', '5. 끓기 시작하면 다진마늘 1큰술을 넣어주시고요~', '6. 국간장 4큰술과 멸치액젓 1큰술을 넣어 주시고 부족한 간은 국간장으로 추가해주세요ㅎㅎㅎ', '7. 느타리버섯을 듬뿍 넣어주시고요~', '8. 양파, 청양고추, 대파를 넣어 끓여주시면 백종원의 고추장찌개 완성~~!!!ㅋ', '9. 칼국수 사리가 준비되어 있으시다면  흐르는 물에 칼국수 사리를 씻어 전분기를 제거하시고  고추장찌개에 넣어 보글보글 끓여보세요~ 정말 별미랍니다^^'], 'recipe_img': ['https://recipe1.ezmember.co.kr/cache/recipe/2016/05/30/f1713242e483f8b77a2d18b95b8ab0eb1.jpg', 'https://recipe1.ezmember.co.kr/cache/recipe/2016/05/30/b19a501b03637bf6a5ec7745ee9293521.jpg', 'https://recipe1.ezmember.co.kr/cache/recipe/2016/05/30/43bcc6f8e5dbe9f00462797bb95d104d1.jpg', 'https://recipe1.ezmember.co.kr/cache/recipe/2016/05/30/df88fe10707a6df9d0ff51fcaa18b85c1.jpg', 'https://recipe1.ezmember.co.kr/cache/recipe/2016/05/30/d79aac56fb569c8a2cb164b5e3aa691f1.jpg', 'https://recipe1.ezmember.co.kr/cache/recipe/2016/05/30/eb7f03be1338a011d67a09ae6202399e1.jpg', 'https://recipe1.ezmember.co.kr/cache/recipe/2016/05/30/85bff34902b05bfb53077fe5cb7c54251.jpg', 'https://recipe1.ezmember.co.kr/cache/recipe/2016/05/30/afd8293a95af7c5a28b316ee67b32ffa1.jpg', 'https://recipe1.ezmember.co.kr/cache/recipe/2016/05/30/617bb475fe072d280b9763a1e7c267b81.jpg']}\n"
     ]
    }
   ],
   "source": [
    "url = 'https://www.10000recipe.com/recipe/6850175'\n",
    "response = requests.get(url)\n",
    "html = response.text\n",
    "soup = BeautifulSoup(html, 'html.parser')\n",
    "    \n",
    "#menu name\n",
    "res = soup.find('div', 'view2_summary')\n",
    "res = res.find('h3')\n",
    "menu_name = res.get_text().replace('\\n',' ').replace('\"','')\n",
    "\n",
    "#menu image\n",
    "res = soup.find('div', 'centeredcrop')\n",
    "res = res.find('img')\n",
    "menu_img = res.get('src')\n",
    "\n",
    "# ingredients\n",
    "res = soup.find('div','ready_ingre3')\n",
    "ingre_dict = {}\n",
    "ingre_list = []\n",
    "new_id = []\n",
    "try:\n",
    "    for n in res.find_all('ul'):\n",
    "        for tmp in n.find_all('li'):\n",
    "            ingredient_name = tmp.get_text().replace('\\n','').replace(' ','')\n",
    "            count = tmp.find('span')\n",
    "            ingredient_tmp = count.get_text()\n",
    "            ingredient_name = re.sub(ingredient_tmp, '',ingredient_name)\n",
    "            ingredient_unit = ingredient_tmp.replace('/','').replace('+','')\n",
    "            ingredient_unit = ''.join([i for i in ingredient_unit if not i.isdigit()])\n",
    "            ingredient_count = re.sub(ingredient_unit, '', ingredient_tmp)\n",
    "\n",
    "            ingre_dict = {\"ingre_name\": ingredient_name,\n",
    "                         \"ingre_count\": ingredient_count,\n",
    "                         \"ingre_unit\": ingredient_unit}\n",
    "            \n",
    "            if ingredient_name in new_dict.keys():\n",
    "                new_id.append(new_dict[str(ingredient_name)])\n",
    "            ingre_list.append(ingre_dict)\n",
    "except(AttributeError):\n",
    "    pass\n",
    "\n",
    "# 요리시간\n",
    "res = soup.find('span', 'view2_summary_info2')\n",
    "time = res.get_text().replace('이내','').replace('분','').replace(' ','').replace('시간','')\n",
    "\n",
    "# 조리 방법+이미지\n",
    "recipe_list = []\n",
    "recipe_dict = []\n",
    "recipe_imges = []\n",
    "res = soup.find('div','view_step')\n",
    "ind = 1\n",
    "for n in res.find_all('div', 'view_step_cont', 'media-body'):\n",
    "    recipe_step_txt = n.get_text().replace('\\n',' ')\n",
    "    recipe_dict = {\"txt\":recipe_step_txt}\n",
    "    recipe_list.append(str(ind) + '. ' + recipe_step_txt)\n",
    "    ind += 1\n",
    "    \n",
    "for n in res.find_all('div', 'view_step_cont', 'media-right'):\n",
    "    res = n.find('img')\n",
    "    recipe_imges.append(res.get('src'))\n",
    "    \n",
    "    \n",
    "food_dict = {\"id\":2,\n",
    "            \"name\":menu_name,\n",
    "            \"thumbnail\":menu_img,\n",
    "            \"url\":url,\n",
    "             \"ingredient_ids\":new_id,\n",
    "            \"time\":time,\n",
    "            \"ingre_list\":ingre_list,\n",
    "            \"recipe\":recipe_list,\n",
    "            \"recipe_img\":recipe_imges}\n",
    "print(food_dict)"
   ]
  },
  {
   "cell_type": "code",
   "execution_count": 96,
   "metadata": {},
   "outputs": [],
   "source": [
    "newnew = []"
   ]
  },
  {
   "cell_type": "code",
   "execution_count": 105,
   "metadata": {},
   "outputs": [],
   "source": [
    "newnew.append(food_dict)"
   ]
  },
  {
   "cell_type": "code",
   "execution_count": 106,
   "metadata": {},
   "outputs": [
    {
     "name": "stdout",
     "output_type": "stream",
     "text": [
      "[{'id': 0, 'name': '파채로 비린내로 잡은 고등어요리! 저녁 추천메뉴! 파채고등어강정 ♥', 'thumbnail': 'https://recipe1.ezmember.co.kr/cache/recipe/2020/09/22/600b236f7197125dc956fe7ad73aead21.jpg', 'url': 'https://www.10000recipe.com/recipe/6942981', 'ingredient_ids': [59, 379, 575, 226, 457], 'time': '30', 'ingre_list': [{'ingre_name': '고등어', 'ingre_count': '2', 'ingre_unit': '마리'}, {'ingre_name': '파채', 'ingre_count': '1', 'ingre_unit': '줌'}, {'ingre_name': '전분', 'ingre_count': '', 'ingre_unit': '적당량'}, {'ingre_name': '간장', 'ingre_count': '3', 'ingre_unit': '숟가락'}, {'ingre_name': '올리고당', 'ingre_count': '1', 'ingre_unit': '숟가락'}, {'ingre_name': '맛술1+1/2숟가락', 'ingre_count': '1+1/2', 'ingre_unit': '숟가락'}, {'ingre_name': '설탕', 'ingre_count': '1/2', 'ingre_unit': '숟가락'}, {'ingre_name': '후추', 'ingre_count': '', 'ingre_unit': '약간'}, {'ingre_name': '다진생강', 'ingre_count': '1/3', 'ingre_unit': '숟가락'}], 'recipe': ['1. 볼에 양념 재료를 넣고 양념장을 만든다.', '2. 고등어의 전분가루를 묻힌다.', '3. 팬에 기름을 넉넉히 두르고 고등어를 튀긴다.', '4. 팬에 양념장을 넣고 끓으면 고등어를 넣는다.', '5. 파채를 곁들여 완성한다.'], 'recipe_img': ['https://recipe1.ezmember.co.kr/cache/recipe/2020/09/22/0f840c9eade9140ba8ead1bec494ddf51.jpg', 'https://recipe1.ezmember.co.kr/cache/recipe/2020/09/22/ef75e1b09a199f8bcb7d58cbfbe54f621.jpg', 'https://recipe1.ezmember.co.kr/cache/recipe/2020/09/22/29dd54f36481bc6ba13a9398f53ac06b1.jpg', 'https://recipe1.ezmember.co.kr/cache/recipe/2020/09/22/6d2bd83bcd83e1b393903913ab26fb8f1.jpg', 'https://recipe1.ezmember.co.kr/cache/recipe/2020/09/22/3d95e063b6732e703fb7010a5a9026011.jpg']}, {'id': 1, 'name': '매콤 개운한 열무비빔국수', 'thumbnail': 'https://recipe1.ezmember.co.kr/cache/recipe/2015/08/27/d559af03bd4e69bceb8cde64bc2dad5b.jpg', 'url': 'https://www.10000recipe.com/recipe/1893759', 'ingredient_ids': [1003, 8, 473, 843, 660, 224], 'time': '15', 'ingre_list': [{'ingre_name': '국수', 'ingre_count': '1', 'ingre_unit': '인분'}, {'ingre_name': '열무김치', 'ingre_count': '', 'ingre_unit': '적당량'}, {'ingre_name': '오이', 'ingre_count': '1/4', 'ingre_unit': '개'}, {'ingre_name': '검은깨', 'ingre_count': '', 'ingre_unit': '약간'}, {'ingre_name': '고추장', 'ingre_count': '1', 'ingre_unit': 'T'}, {'ingre_name': '매실액', 'ingre_count': '1', 'ingre_unit': 'T'}, {'ingre_name': '참기름', 'ingre_count': '1', 'ingre_unit': 'T'}, {'ingre_name': '고춧가루', 'ingre_count': '1', 'ingre_unit': 't'}], 'recipe': ['1. 냄비의 물을 올리시고, 양념을 준비해 주세요. 물이 끓으면 소면을 넣어준뒤, 중간중간 부글부글 넘치려고 할때 찬물을 넣어 소면을 익혀주세요. 3~4분정도 익혀주시면 된답니다.', '2. 물을 끓이는 사이 오이는 채썰어주시구요.', '3. 양념을 만들고 열무김치를 넣어 먹기좋게 가위로 김치를 좀 잘라줍니다. 이때쯤 국수는 다 익었을 테니, 찬물에 헹궈 물기를 빼주세요.', '4. 물기를 뺀 국수를 열무김치양념에 넣고 쓱쓱 비벼 그릇에 담은 후', '5. 채썰은 오이와 검은깨를 국수 위에 얹고, 참기름을 뿌려주시면', '6. 매콤하고 시원, 개운한 열무국수 완성이랍니다.'], 'recipe_img': ['https://recipe1.ezmember.co.kr/cache/recipe/2015/08/27/71e17fa03d5e1348491e0f624e3c1ba31.jpg', 'https://recipe1.ezmember.co.kr/cache/recipe/2015/08/27/f29df0bbad695ef7294d0b81b2e6ecf91.jpg', 'https://recipe1.ezmember.co.kr/cache/recipe/2015/08/27/dac6e557953d188a74f54ba0af4d01cf1.jpg', 'https://recipe1.ezmember.co.kr/cache/recipe/2015/08/27/549418651055a56e87dea5a93b6ccede1.jpg', 'https://recipe1.ezmember.co.kr/cache/recipe/2015/08/27/657b902636fb21a93ed197c2909bc5111.jpg', 'https://recipe1.ezmember.co.kr/cache/recipe/2015/08/27/cabf578a46b54ca466c62d12dca0c7f91.jpg']}, {'id': 2, 'name': '칼칼한 맛이 당길때 백종원의 감자고추장찌개 어떠세요???', 'thumbnail': 'https://recipe1.ezmember.co.kr/cache/recipe/2016/05/30/4512914b3a3c9835075143f32fb34efd1.jpg', 'url': 'https://www.10000recipe.com/recipe/6850175', 'ingredient_ids': [473, 660, 504, 5, 3, 27, 295, 56, 495, 233, 349, 333], 'time': '30', 'ingre_list': [{'ingre_name': '고추장', 'ingre_count': '1', 'ingre_unit': '큰술'}, {'ingre_name': '참기름', 'ingre_count': '2', 'ingre_unit': '큰술'}, {'ingre_name': '식용유', 'ingre_count': '2', 'ingre_unit': '큰술'}, {'ingre_name': '고추가루', 'ingre_count': '1', 'ingre_unit': '큰술'}, {'ingre_name': '감자', 'ingre_count': '', 'ingre_unit': ''}, {'ingre_name': '양파', 'ingre_count': '', 'ingre_unit': ''}, {'ingre_name': '대파', 'ingre_count': '', 'ingre_unit': ''}, {'ingre_name': '청양고추', 'ingre_count': '', 'ingre_unit': ''}, {'ingre_name': '느타리버섯', 'ingre_count': '', 'ingre_unit': ''}, {'ingre_name': '소고기', 'ingre_count': '', 'ingre_unit': ''}, {'ingre_name': '칼국수사리면', 'ingre_count': '', 'ingre_unit': ''}, {'ingre_name': '다진마늘', 'ingre_count': '1', 'ingre_unit': '큰술'}, {'ingre_name': '국간장', 'ingre_count': '4', 'ingre_unit': '큰술'}, {'ingre_name': '멸치액젓', 'ingre_count': '1', 'ingre_unit': '큰술'}], 'recipe': ['1. 감자는 한입 크기로 도톰하게 썰어 준비해주시고 느타리버섯도 준비해주세요~', '2. 팬에 참기름 2큰술, 식용유 2큰술, 고추장 1큰술을 넣어 약한불에서 타지않도록 볶아줍니다~', '3. 고추기름이 올라오기 시작하면 고추가루 1큰술을 넣어 볶으시다가 거품이 올라오기 시작하면 물 500ml를 넣어주세요~', '4. 감자와 소고기를 넣고 센불에서 끓이기 시작합니다~ 국물의 색을 보시고 취향에 맞게 고추가루를 추가하셔도 되고요~ㅎㅎㅎ', '5. 끓기 시작하면 다진마늘 1큰술을 넣어주시고요~', '6. 국간장 4큰술과 멸치액젓 1큰술을 넣어 주시고 부족한 간은 국간장으로 추가해주세요ㅎㅎㅎ', '7. 느타리버섯을 듬뿍 넣어주시고요~', '8. 양파, 청양고추, 대파를 넣어 끓여주시면 백종원의 고추장찌개 완성~~!!!ㅋ', '9. 칼국수 사리가 준비되어 있으시다면  흐르는 물에 칼국수 사리를 씻어 전분기를 제거하시고  고추장찌개에 넣어 보글보글 끓여보세요~ 정말 별미랍니다^^'], 'recipe_img': ['https://recipe1.ezmember.co.kr/cache/recipe/2016/05/30/f1713242e483f8b77a2d18b95b8ab0eb1.jpg', 'https://recipe1.ezmember.co.kr/cache/recipe/2016/05/30/b19a501b03637bf6a5ec7745ee9293521.jpg', 'https://recipe1.ezmember.co.kr/cache/recipe/2016/05/30/43bcc6f8e5dbe9f00462797bb95d104d1.jpg', 'https://recipe1.ezmember.co.kr/cache/recipe/2016/05/30/df88fe10707a6df9d0ff51fcaa18b85c1.jpg', 'https://recipe1.ezmember.co.kr/cache/recipe/2016/05/30/d79aac56fb569c8a2cb164b5e3aa691f1.jpg', 'https://recipe1.ezmember.co.kr/cache/recipe/2016/05/30/eb7f03be1338a011d67a09ae6202399e1.jpg', 'https://recipe1.ezmember.co.kr/cache/recipe/2016/05/30/85bff34902b05bfb53077fe5cb7c54251.jpg', 'https://recipe1.ezmember.co.kr/cache/recipe/2016/05/30/afd8293a95af7c5a28b316ee67b32ffa1.jpg', 'https://recipe1.ezmember.co.kr/cache/recipe/2016/05/30/617bb475fe072d280b9763a1e7c267b81.jpg']}]\n"
     ]
    }
   ],
   "source": [
    "print(newnew)"
   ]
  },
  {
   "cell_type": "code",
   "execution_count": 107,
   "metadata": {},
   "outputs": [],
   "source": [
    "toJson(newnew)"
   ]
  },
  {
   "cell_type": "code",
   "execution_count": null,
   "metadata": {},
   "outputs": [],
   "source": []
  }
 ],
 "metadata": {
  "kernelspec": {
   "display_name": "Python 3",
   "language": "python",
   "name": "python3"
  },
  "language_info": {
   "codemirror_mode": {
    "name": "ipython",
    "version": 3
   },
   "file_extension": ".py",
   "mimetype": "text/x-python",
   "name": "python",
   "nbconvert_exporter": "python",
   "pygments_lexer": "ipython3",
   "version": "3.7.9"
  }
 },
 "nbformat": 4,
 "nbformat_minor": 4
}
