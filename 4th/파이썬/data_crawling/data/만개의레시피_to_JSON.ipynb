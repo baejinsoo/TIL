{
 "cells": [
  {
   "cell_type": "code",
   "execution_count": 2,
   "metadata": {},
   "outputs": [
    {
     "name": "stdout",
     "output_type": "stream",
     "text": [
      "Requirement already satisfied: requests in e:\\python3.7\\lib\\site-packages (2.24.0)\n",
      "Requirement already satisfied: chardet<4,>=3.0.2 in e:\\python3.7\\lib\\site-packages (from requests) (3.0.4)\n",
      "Requirement already satisfied: urllib3!=1.25.0,!=1.25.1,<1.26,>=1.21.1 in e:\\python3.7\\lib\\site-packages (from requests) (1.25.11)\n",
      "Requirement already satisfied: idna<3,>=2.5 in e:\\python3.7\\lib\\site-packages (from requests) (2.10)\n",
      "Requirement already satisfied: certifi>=2017.4.17 in e:\\python3.7\\lib\\site-packages (from requests) (2020.6.20)\n",
      "Note: you may need to restart the kernel to use updated packages.\n"
     ]
    },
    {
     "name": "stderr",
     "output_type": "stream",
     "text": [
      "WARNING: You are using pip version 20.1.1; however, version 20.2.4 is available.\n",
      "You should consider upgrading via the 'e:\\python3.7\\python.exe -m pip install --upgrade pip' command.\n"
     ]
    }
   ],
   "source": [
    "pip install requests"
   ]
  },
  {
   "cell_type": "code",
   "execution_count": 6,
   "metadata": {},
   "outputs": [
    {
     "name": "stdout",
     "output_type": "stream",
     "text": [
      "Collecting beautifulsoup4\n",
      "  Downloading beautifulsoup4-4.9.3-py3-none-any.whl (115 kB)\n",
      "Collecting soupsieve>1.2; python_version >= \"3.0\"\n",
      "  Using cached soupsieve-2.0.1-py3-none-any.whl (32 kB)\n",
      "Installing collected packages: soupsieve, beautifulsoup4\n",
      "Successfully installed beautifulsoup4-4.9.3 soupsieve-2.0.1\n",
      "Note: you may need to restart the kernel to use updated packages.\n"
     ]
    }
   ],
   "source": [
    "pip install beautifulsoup4"
   ]
  },
  {
   "cell_type": "code",
   "execution_count": 4,
   "metadata": {},
   "outputs": [
    {
     "name": "stdout",
     "output_type": "stream",
     "text": [
      "Collecting pip\n",
      "  Using cached pip-20.2.4-py2.py3-none-any.whl (1.5 MB)\n",
      "Installing collected packages: pip\n",
      "  Attempting uninstall: pip\n",
      "    Found existing installation: pip 20.1.1\n",
      "    Uninstalling pip-20.1.1:\n",
      "      Successfully uninstalled pip-20.1.1\n",
      "Successfully installed pip-20.2.4\n",
      "Note: you may need to restart the kernel to use updated packages.\n"
     ]
    }
   ],
   "source": [
    "pip install --upgrade pip"
   ]
  },
  {
   "cell_type": "code",
   "execution_count": 34,
   "metadata": {},
   "outputs": [
    {
     "name": "stdout",
     "output_type": "stream",
     "text": [
      "{'id': 0, 'name': '태국에서 먹는 태국식 닭튀김 ไก่ทอด  까이텃  만들면서 태국여행 떠나자! ', 'img': 'https://recipe1.ezmember.co.kr/cache/recipe/2020/10/26/5802c758cb1127a8d07d854fac0085ce1.jpg', 'ingre': [{'ingre_name': '닭', 'ingre_count': '1', 'ingre_unit': '마리'}, {'ingre_name': '마늘', 'ingre_count': '5', 'ingre_unit': '개'}, {'ingre_name': '코리앤더씨드', 'ingre_count': '1/4', 'ingre_unit': '숟가락'}, {'ingre_name': '굴소스', 'ingre_count': '2', 'ingre_unit': '숟가락'}, {'ingre_name': '피쉬소스', 'ingre_count': '1', 'ingre_unit': '숟가락'}, {'ingre_name': '설탕', 'ingre_count': '', 'ingre_unit': '약간'}, {'ingre_name': '통후추', 'ingre_count': '15', 'ingre_unit': '알'}, {'ingre_name': '쌀가루', 'ingre_count': '1', 'ingre_unit': '종이컵'}, {'ingre_name': '튀김가루', 'ingre_count': '1', 'ingre_unit': '종이컵'}, {'ingre_name': '소금', 'ingre_count': '', 'ingre_unit': '약간'}, {'ingre_name': '무', 'ingre_count': '1/6', 'ingre_unit': '개'}, {'ingre_name': '당근', 'ingre_count': '1/6', 'ingre_unit': '개'}, {'ingre_name': '식초', 'ingre_count': '1/2', 'ingre_unit': '종이컵'}, {'ingre_name': '설탕', 'ingre_count': '1/4', 'ingre_unit': '종이컵'}, {'ingre_name': '소금', 'ingre_count': '1', 'ingre_unit': '숟가락'}], 'reci': ['1. 무, 당근을 6cm 길이로 채썬다.                     \\r                             네오플램 피카 쁘띠웍                          ', '2. 냄비에 식초, 설탕, 소금을 넣고 설탕이 녹을 때까지 끓인다.', '3. 무, 당근에 부어 한김 식으면 냉장고에서 2시간이상 절인다.', '4. 절구에 마늘, 통후추,코리앤더씨드를 빻은 후 굴소스, 피쉬소스, 설탕을 넣고 마리네이드소스를 만든다.                     \\r                             제이미올리버 돌절구                          ', '5. 손질한 닭에 마리네이드소스를 고루 바른다.', '6. 쌀가루, 튀김가루, 소금을 잘 섞은 후 마리네이드 된 닭에 반죽옷을 입힌다.', '7. 180도로 예열된 기름에 2번 튀겨 무절임과 곁들여 완성한다.']}\n",
      "{'id': 1, 'name': '브런치 메뉴 원탑! 촉촉하고 달콤한 프렌치토스트', 'img': 'https://recipe1.ezmember.co.kr/cache/recipe/2020/10/26/f39a4851ef50842bc260161a477bc4191.jpg', 'ingre': [{'ingre_name': '식빵', 'ingre_count': '2', 'ingre_unit': '장'}, {'ingre_name': '달걀', 'ingre_count': '2', 'ingre_unit': '개'}, {'ingre_name': '우유', 'ingre_count': '1', 'ingre_unit': '종이컵'}, {'ingre_name': '소금', 'ingre_count': '', 'ingre_unit': '약간'}, {'ingre_name': '버터', 'ingre_count': '1/2', 'ingre_unit': '숟가락'}, {'ingre_name': '연유', 'ingre_count': '1', 'ingre_unit': '숟가락'}, {'ingre_name': '슈가파우더', 'ingre_count': '', 'ingre_unit': '약간'}], 'reci': ['1. 볼에 달걀, 우유, 소금을 넣어 달걀물을 만들어요.', '2. 달걀물에 식빵을 충분히 담가 달걀물을 입혀요.', '3. 예열된 팬에 버터를 넣어 녹인 후, 달걀물을 입힌 식빵을 앞뒤로 노릇하게 구워요.', '4. 그릇에 담아 연유를 뿌리고 슈가파우더를 뿌려 완성해요.기호에 따라 과일, 견과류 등을 곁들여요.']}\n",
      "{'id': 2, 'name': '밀크잼 3가지! 커피잼, 밀크티잼, 초코잼을 집에서 만드는 방법 ♥', 'img': 'https://recipe1.ezmember.co.kr/cache/recipe/2020/10/26/365470f841c15309b6bde48136d7383d1.png', 'ingre': [{'ingre_name': '우유', 'ingre_count': '2', 'ingre_unit': '종이컵'}, {'ingre_name': '생크림', 'ingre_count': '1', 'ingre_unit': '종이컵'}, {'ingre_name': '설탕', 'ingre_count': '1/3', 'ingre_unit': '종이컵'}, {'ingre_name': '바닐라익스트릭', 'ingre_count': '', 'ingre_unit': '약간'}, {'ingre_name': '얼그레이티백', 'ingre_count': '2', 'ingre_unit': '개'}, {'ingre_name': '우유', 'ingre_count': '2', 'ingre_unit': '종이컵'}, {'ingre_name': '생크림', 'ingre_count': '1', 'ingre_unit': '종이컵'}, {'ingre_name': '설탕', 'ingre_count': '1/3', 'ingre_unit': '종이컵'}, {'ingre_name': '연유', 'ingre_count': '2', 'ingre_unit': '숟가락'}, {'ingre_name': '커피가루', 'ingre_count': '2', 'ingre_unit': '숟가락'}, {'ingre_name': '우유', 'ingre_count': '2', 'ingre_unit': '종이컵'}, {'ingre_name': '생크림', 'ingre_count': '1', 'ingre_unit': '종이컵'}, {'ingre_name': '설탕', 'ingre_count': '2', 'ingre_unit': '숟가락'}, {'ingre_name': '코코아파우더', 'ingre_count': '2', 'ingre_unit': '숟가락'}, {'ingre_name': '다크초콜릿', 'ingre_count': '1/2', 'ingre_unit': '종이컵'}], 'reci': ['1. 유리병을 끓는 물에 소독한 후 물기를 제거한다.', '2. 우유, 생크림을 넣고 끓인다.얼그레이밀크잼은 티백, 우유, 생크림을 같이 넣고 끓여주세요   \\r                             네오플램 피카 편수냄비                          ', '3. 끓기 시작하면 나머지 재료를 각각 넣고 농도가 날 때 까지 약불로 끓인다.', '4. 유리병에 담아 충분히 식힌 후 뚜껑을 닫아 냉장고에 보관한다.2주일 이내로 섭취해주세요 ']}\n",
      "{'id': 3, 'name': '새우토마토스튜 ♥ 이탈리아식 카치아토레를 새우로 만들어요', 'img': 'https://recipe1.ezmember.co.kr/cache/recipe/2020/10/19/0be1100802542ac1fc14bbc5801ddab81.jpg', 'ingre': [{'ingre_name': '새우', 'ingre_count': '6', 'ingre_unit': '마리'}, {'ingre_name': '모시조개', 'ingre_count': '1', 'ingre_unit': '종이컵'}, {'ingre_name': '방울토마토', 'ingre_count': '3', 'ingre_unit': '개'}, {'ingre_name': '마늘', 'ingre_count': '6', 'ingre_unit': '알'}, {'ingre_name': '양파', 'ingre_count': '1/2', 'ingre_unit': '개'}, {'ingre_name': '노란파프리카', 'ingre_count': '1/2', 'ingre_unit': '개'}, {'ingre_name': '페페로치니', 'ingre_count': '1', 'ingre_unit': '숟가락'}, {'ingre_name': '홀토마토', 'ingre_count': '2', 'ingre_unit': '종이컵'}, {'ingre_name': '고추장', 'ingre_count': '1', 'ingre_unit': '숟가락'}, {'ingre_name': '그린올리브', 'ingre_count': '6', 'ingre_unit': '알'}, {'ingre_name': '소금', 'ingre_count': '', 'ingre_unit': '약간'}, {'ingre_name': '후추', 'ingre_count': '', 'ingre_unit': '약간'}, {'ingre_name': '그라노파다노치즈', 'ingre_count': '', 'ingre_unit': '약간'}], 'reci': ['1. 마늘은 반으로 자르고, 양파, 파프리카는 한입크기로 썬다.                     \\r                             파뷔에 마호가니 원목 도마                          ', '2. 냄비에 올리브유를 두르고 새우를 볶아 접시에 덜어둔다.                     \\r                             스타우브 원형 꼬꼬떼 22cm 바질그린(ST102285)                          ', '3. 새우를 볶은 냄비에 올리브유를 두르고 마늘, 페퍼로치니을 넣고 볶아 향을 낸다.', '4. 양파, 파프리카를 볶다가, 홀토마토, 고추장, 그린올리브, 모시조개를 넣고 끓인다.', '5. 조개가 입을 벌리면 방울토마토, 구운 새우, 소금, 후추를 넣고 끓인다.', '6. 그라나파다노, 올리브유를 뿌려 완성한다.']}\n",
      "{'id': 4, 'name': '추억의 학교앞 간식! 피카츄꼬치 만들기! 떡꼬치 소스는 꼭 듬뿍', 'img': 'https://recipe1.ezmember.co.kr/cache/recipe/2020/10/19/94edf257e3ad64985b80875125a20eb91.jpg', 'ingre': [{'ingre_name': '돼지고기다짐육', 'ingre_count': '2', 'ingre_unit': '종이컵'}, {'ingre_name': '닭다리살', 'ingre_count': '1', 'ingre_unit': '개'}, {'ingre_name': '달걀', 'ingre_count': '1/2', 'ingre_unit': '개'}, {'ingre_name': '다진마늘', 'ingre_count': '1', 'ingre_unit': '숟가락'}, {'ingre_name': '청주', 'ingre_count': '1', 'ingre_unit': '숟가락'}, {'ingre_name': '후추', 'ingre_count': '', 'ingre_unit': '약간'}, {'ingre_name': '소금', 'ingre_count': '', 'ingre_unit': '약간'}, {'ingre_name': '식용유', 'ingre_count': '', 'ingre_unit': '넉넉히'}, {'ingre_name': '밀가루', 'ingre_count': '1/2', 'ingre_unit': '종이컵'}, {'ingre_name': '달걀', 'ingre_count': '1', 'ingre_unit': '개'}, {'ingre_name': '빵가루', 'ingre_count': '1', 'ingre_unit': '종이컵'}, {'ingre_name': '케찹', 'ingre_count': '5', 'ingre_unit': '숟가락'}, {'ingre_name': '고추장', 'ingre_count': '1', 'ingre_unit': '숟가락'}, {'ingre_name': '물엿', 'ingre_count': '2', 'ingre_unit': '숟가락'}, {'ingre_name': '설탕', 'ingre_count': '2', 'ingre_unit': '숟가락'}, {'ingre_name': '설탕', 'ingre_count': '', 'ingre_unit': '적당량'}, {'ingre_name': '머스터드', 'ingre_count': '', 'ingre_unit': '적당량'}], 'reci': ['1. 믹서에 재료를 넣어 간다.', '2. 간 재료를 잘 치댄 후 피카츄 모양을 만든다.모양을 만든 후 냉동실에 살짝 얼려주세요.', '3. 만들어 둔 피카츄를 밀가루>달걀물>빵가루 순으로 묻힌다.', '4. 예열 된 기름에 피카츄를 넣어 노릇하게 튀긴 후 꼬지를 꽂는다.', '5. 양념 재료를 잘 섞어 소스를 만든다.', '6. 튀긴 피카츄 꼬지에 소스를 발라 완성한다.설탕, 머스터드를 뿌려 먹어도 맛있어요.']}\n",
      "{'id': 5, 'name': '톡톡! 리틀포레스트에 나온 크렘브륄레 ♥ 가을 밤으로 찐하게 만들기', 'img': 'https://recipe1.ezmember.co.kr/cache/recipe/2020/10/19/85ec130a778d1bb1be133df2682aaf161.png', 'ingre': [{'ingre_name': '생크림', 'ingre_count': '450', 'ingre_unit': 'g'}, {'ingre_name': '바닐라빈', 'ingre_count': '1/2', 'ingre_unit': '개'}, {'ingre_name': '밤페이스트', 'ingre_count': '80', 'ingre_unit': 'g'}, {'ingre_name': '우유', 'ingre_count': '100', 'ingre_unit': 'g'}, {'ingre_name': '설탕', 'ingre_count': '40', 'ingre_unit': 'g'}, {'ingre_name': '소금', 'ingre_count': '1', 'ingre_unit': '꼬집'}, {'ingre_name': '달걀노른자', 'ingre_count': '5', 'ingre_unit': '개'}, {'ingre_name': '황설탕', 'ingre_count': '', 'ingre_unit': '약간'}, {'ingre_name': '맛밤', 'ingre_count': '', 'ingre_unit': '약간'}], 'reci': ['1. 맛밤은 1/4등분하고 오븐용기에 담아둔다.                     \\r                             카카두 프리미엄 캄포나무 도마                          ', '2. 볼에 밤페이스트를 넣고 우유를 조금씩 넣으면서 부드럽게 풀어준다.', '3. 냄비에 부드럽게 풀어준 밤페이스트와 생크림, 바닐라빈을 넣고 살짝 데운 후 식힌다.', '4. 다른 볼에 달걀노른자와 설탕,소금을 넣고 손거품기로 잘 섞는다.', '5. 데운 생크림을을 노른자에 조금씩 넣으면서 섞는다.                     \\r                             거품기(스테인레스/소/29cm)                          ', '6. 체에 한번 거른 후 오븐용기에 담는다.                     \\r                             휴바트 이지레스트 아카시아 스트레이너 체반                          ', '7. 중탕으로 150도 오븐에 30~40분 익힌다.                     \\r                             오븐팬(양면코팅)                          ', '8. 차갑게 식힌 후 황설탕을 위에 뿌린 후 토치로 설탕을 태워 완성한다.']}\n"
     ]
    },
    {
     "name": "stdout",
     "output_type": "stream",
     "text": [
      "{'id': 6, 'name': '여러가지 버섯을 넣어 간단 반찬만들기! 모둠 버섯볶음', 'img': 'https://recipe1.ezmember.co.kr/cache/recipe/2020/10/19/a14986a11a03cbf8420de3badfa2f1f61.jpg', 'ingre': [{'ingre_name': '느타리버섯', 'ingre_count': '150', 'ingre_unit': 'g'}, {'ingre_name': '표고버섯', 'ingre_count': '3', 'ingre_unit': '개'}, {'ingre_name': '백만송이버섯', 'ingre_count': '100', 'ingre_unit': 'g'}, {'ingre_name': '양파', 'ingre_count': '1/2', 'ingre_unit': '개'}, {'ingre_name': '대파', 'ingre_count': '10', 'ingre_unit': 'cm'}, {'ingre_name': '다진마늘', 'ingre_count': '1/2', 'ingre_unit': '숟가락'}, {'ingre_name': '국간장', 'ingre_count': '1', 'ingre_unit': '숟가락'}, {'ingre_name': '소금', 'ingre_count': '1', 'ingre_unit': '작은숟가락'}, {'ingre_name': '후추', 'ingre_count': '', 'ingre_unit': '약간'}, {'ingre_name': '깨소금', 'ingre_count': '1', 'ingre_unit': '숟가락'}, {'ingre_name': '참기름', 'ingre_count': '1', 'ingre_unit': '숟가락'}], 'reci': ['1. 느타리 버섯은 결대로 찢고, 표고버섯은 편으로 썰고 백만송이 버섯은 기둥을 잘라 가닥가닥뜯어 준비해요                     \\r                             라오메뜨 이태리 천연세라믹 트레이 도마                          ', '2. 양파는 얇게 채 썰고 대파는 송송 썰어 준비해요.                     \\r                             라오메뜨 이태리 천연세라믹 트레이 도마                          ', '3. 예열된 팬에 기름을 두르고 양파, 대파를 넣어 볶아요.                     \\r                             네오플램 피카 프라이팬                           \\r                             닥터하우스 트윙클 스토브 (크림)                          ', '4. 양파가 반쯤 투명해 지면 버섯을 넣어 볶아요.', '5. 버섯이 숨이 죽으면 다진 마늘, 국간장, 소금, 후추를 넣어 간을 해요.', '6. 불을 끄고 깨소금, 참기름을 넣어 섞어 완성해요.']}\n",
      "{'id': 7, 'name': '닭곤약국수 : 가벼운 국물에 가벼운 곤약국수! 가볍게 먹어요♥ ', 'img': 'https://recipe1.ezmember.co.kr/cache/recipe/2020/10/19/4a9d0ed0c90918b29a03b33c5ecfa02e1.jpg', 'ingre': [{'ingre_name': '닭가슴살', 'ingre_count': '1', 'ingre_unit': '개'}, {'ingre_name': '실곤약', 'ingre_count': '400', 'ingre_unit': 'g'}, {'ingre_name': '청주', 'ingre_count': '1', 'ingre_unit': '숟가락'}, {'ingre_name': '소금', 'ingre_count': '', 'ingre_unit': '약간'}, {'ingre_name': '오이', 'ingre_count': '1/3', 'ingre_unit': '개'}, {'ingre_name': '표고버섯', 'ingre_count': '2', 'ingre_unit': '개'}, {'ingre_name': '소금', 'ingre_count': '', 'ingre_unit': '약간'}, {'ingre_name': '식용유', 'ingre_count': '', 'ingre_unit': '약간'}, {'ingre_name': '물', 'ingre_count': '3', 'ingre_unit': '종이컵'}, {'ingre_name': '다시마', 'ingre_count': '1', 'ingre_unit': '장'}, {'ingre_name': '국간장', 'ingre_count': '1', 'ingre_unit': '숟가락'}, {'ingre_name': '간장', 'ingre_count': '1/2', 'ingre_unit': '숟가락'}, {'ingre_name': '설탕', 'ingre_count': '2', 'ingre_unit': '숟가락'}, {'ingre_name': '식초', 'ingre_count': '2', 'ingre_unit': '숟가락'}, {'ingre_name': '소금', 'ingre_count': '', 'ingre_unit': '약간'}], 'reci': ['1. 냄비에 물 2종이컵, 청주를 넣고 닭가슴살을 넣어 익힌다닭 삶은 물은 육수로 사용해주세요   \\r                             네오플램 노블레스 편수냄비                          ', '2. 찬물에 우려둔 다시마 육수에 나머지 재료를 넣고 섞는다.', '3. 익힌 닭가슴살을 잘게 찢고, 표고버섯을 채 썰어 각각 소금 간을 한다.', '4. 팬에 식용유, 표고버섯, 물 1숟가락을 넣고 볶는다.                     \\r                             해피콜 IH 프라이팬 16cm                          ', '5. 닭육수 1+1/2종이컵, 양념육수 2종이컵을 넣고 섞어 냉동실에 넣어 차갑게 만든다.', '6. 육수가 차가워지면 그릇에 실곤약, 표고버섯, 채 썬 오이, 육수를 부어 완성한다.연겨자를 곁들여 먹으면 좋아요 ']}\n",
      "{'id': 8, 'name': '간단한 닭조림은 콜라로 만들어 주세요! 콜라닭 ♥ 닭날개로 만들어요', 'img': 'https://recipe1.ezmember.co.kr/cache/recipe/2020/10/19/b09e04bba55991439b3aa17697ba3f261.jpg', 'ingre': [{'ingre_name': '닭날개', 'ingre_count': '14', 'ingre_unit': '개'}, {'ingre_name': '맛술', 'ingre_count': '1', 'ingre_unit': '숟가락'}, {'ingre_name': '소금', 'ingre_count': '', 'ingre_unit': '약간'}, {'ingre_name': '후추', 'ingre_count': '', 'ingre_unit': '약간'}, {'ingre_name': '통마늘', 'ingre_count': '4', 'ingre_unit': '개'}, {'ingre_name': '대파', 'ingre_count': '2', 'ingre_unit': '대'}, {'ingre_name': '콜라', 'ingre_count': '1', 'ingre_unit': '종이컵'}, {'ingre_name': '간장3+1/2숟가락', 'ingre_count': '3+1/2', 'ingre_unit': '숟가락'}, {'ingre_name': '페페론치노', 'ingre_count': '1/3', 'ingre_unit': '숟가락'}], 'reci': ['1. 마늘은 편 썰고 대파는 5cm길이로 썰고 닭날개의 칼집을 낸다.', '2. 닭날개의 맛술, 소금, 후추를 뿌려 밑간한다.', '3. 달군 팬에 기름을 두르고 닭날개를 앞뒤로 노릇하게 굽는다.                     \\r                             네오플램 피카 프라이팬                          ', '4. 대파, 편마늘, 양념 재료를 넣고 물기가 없어질 때까지 졸여 완성한다.부족한 간은 마지막에 소금, 후추를 뿌려요.']}\n",
      "{'id': 9, 'name': '다이어트에 좋은 차! 히비스커스로 샐러드드레싱 만들기! ', 'img': 'https://recipe1.ezmember.co.kr/cache/recipe/2020/10/19/23cb8a38f043971548677fd2cec601cb1.png', 'ingre': [{'ingre_name': '표고버섯', 'ingre_count': '2', 'ingre_unit': '개'}, {'ingre_name': '양송이버섯', 'ingre_count': '2', 'ingre_unit': '개'}, {'ingre_name': '새송이버섯', 'ingre_count': '1', 'ingre_unit': '개'}, {'ingre_name': '느타리버섯', 'ingre_count': '1', 'ingre_unit': '줌'}, {'ingre_name': '히비스커스차', 'ingre_count': '3', 'ingre_unit': '숟가락'}, {'ingre_name': '올리고당', 'ingre_count': '1', 'ingre_unit': '숟가락'}, {'ingre_name': '소금', 'ingre_count': '', 'ingre_unit': '약간'}, {'ingre_name': '올리브오일', 'ingre_count': '2', 'ingre_unit': '숟가락'}], 'reci': ['1. 버섯들은 밑둥을 제거하고 먹기 좋은 크기로 자른다.', '2. 달군팬에 기름을 두르고, 버섯과 소금을 약간 넣고 약한 불에서 볶는다.                     \\r                             네오플램 피카 프라이팬                           \\r                             닥터하우스 트윙클 스토브 (크림)                          ', '3. 버섯에 수분이 나오고, 노릇하게 볶는다.', '4. 구워진 버섯은 한소끔 식힌다.', '5. 드레싱 재료를 올리브 오일을 제외하고 가볍게 섞는다.', '6. 잘 섞인 드레싱 재료에 올리브오일을 천천히 잘 섞는다.', '7. 접시에 버섯을 올리고, 드레싱을 곁들여 낸다.']}\n",
      "{'id': 10, 'name': '만두피 없이 배추 속을 채운 단백한 배추찐만두 ♥', 'img': 'https://recipe1.ezmember.co.kr/cache/recipe/2020/10/14/35e249e0a7c255e8742f59d2ef8148281.jpg', 'ingre': [{'ingre_name': '알배추', 'ingre_count': '1', 'ingre_unit': '통'}, {'ingre_name': '다진돼지고기', 'ingre_count': '100', 'ingre_unit': 'g'}, {'ingre_name': '양파', 'ingre_count': '1/3', 'ingre_unit': '개'}, {'ingre_name': '부추', 'ingre_count': '50', 'ingre_unit': 'g'}, {'ingre_name': '당면', 'ingre_count': '30', 'ingre_unit': 'g'}, {'ingre_name': '두부', 'ingre_count': '150', 'ingre_unit': 'g'}, {'ingre_name': '밀가루', 'ingre_count': '', 'ingre_unit': '약간'}, {'ingre_name': '소금', 'ingre_count': '', 'ingre_unit': '약간'}, {'ingre_name': '후추', 'ingre_count': '', 'ingre_unit': '약간'}, {'ingre_name': '다진마늘', 'ingre_count': '1/2', 'ingre_unit': '숟가락'}, {'ingre_name': '간장', 'ingre_count': '1', 'ingre_unit': '숟가락'}, {'ingre_name': '식초', 'ingre_count': '1', 'ingre_unit': '숟가락'}, {'ingre_name': '참기름', 'ingre_count': '1/2', 'ingre_unit': '숟가락'}, {'ingre_name': '통깨', 'ingre_count': '', 'ingre_unit': '약간'}], 'reci': ['1. 끓는 물에 당면을 넣고 삶은 후 가위로 자른다.', '2. 끓는 물에 소금을 넣고 배추의 흰부분이 휘어질 때 까지 데친다.', '3. 면보로 두부의 물기를 제거한다.', '4. 볼에 알배추를 제외한 모든 재료를 섞어 소를 만든다.', '5. 데친 알배추에 소를 넣고 돌돌 만다.', '6. 김이 오른 찜기에 배추만두를 넣고 7~10분간 찐 후 초간장을 곁들여 완성한다.']}\n",
      "{'id': 11, 'name': '한조각에 무화과 하나씩! 홈베이킹레시피 무화과파운드케이크 ♥', 'img': 'https://recipe1.ezmember.co.kr/cache/recipe/2020/10/14/acf4e0d42e43018cb3138f16c4ed88381.jpg', 'ingre': [{'ingre_name': '무염버터', 'ingre_count': '150', 'ingre_unit': 'g'}, {'ingre_name': '슈가파우더', 'ingre_count': '135', 'ingre_unit': 'g'}, {'ingre_name': '달걀', 'ingre_count': '150', 'ingre_unit': 'g'}, {'ingre_name': '바닐라익스트랙', 'ingre_count': '1/2', 'ingre_unit': 't'}, {'ingre_name': '박력분', 'ingre_count': '135', 'ingre_unit': 'g'}, {'ingre_name': '아몬드파우더', 'ingre_count': '30', 'ingre_unit': 'g'}, {'ingre_name': '베이킹파우더', 'ingre_count': '4', 'ingre_unit': 'g'}, {'ingre_name': '반건조무화과', 'ingre_count': '100', 'ingre_unit': 'g'}, {'ingre_name': '건살구', 'ingre_count': '30', 'ingre_unit': 'g'}, {'ingre_name': '럼', 'ingre_count': '20', 'ingre_unit': 'g'}], 'reci': ['1. 반건조 무화과는 꼭지를 제거하고 6등분, 건살구는 2등분 해 럼에 절여둔다.', '2. 볼에 실온에 둔 버터를 넣고 핸드믹서로 부드럽게 푼다.', '3. 슈가파우더를 넣고 핸드믹서로 섞는다.슈가파우더를 넣고 바로 핸드믹서로 섞으면 가루가 날릴 수 있어요. 고무주걱으로 버터와 섞은 뒤 핸드믹서로 돌려주세요.', '4. 달걀과 바닐라익스트랙 섞은 것을 2~3회에 나누어 넣으면서 섞는다.', '5. 체친 가루재료를 넣고 주걱으로 자르듯이 섞는다.', '6. 가루가 약간 남아있을 때 절여둔 무화과와 건살구를 넣고 섞는다.', '7. 틀에 반죽을 넣고 180도 예열한 오븐에 35~40분 굽는다.', '8. 구워져 나온 파운드케이크를 틀에서 빼 식힘망에 완전히 식힌다.']}\n",
      "{'id': 12, 'name': '흑미밥과 달달한 고구마를 넣은 달달 크림리조또 ! 고구마리조또 ♥', 'img': 'https://recipe1.ezmember.co.kr/cache/recipe/2020/10/14/da44e9e6fd9f3a710f6e86be3c58ea661.jpg', 'ingre': [{'ingre_name': '밥', 'ingre_count': '1/2', 'ingre_unit': '공기'}, {'ingre_name': '고구마', 'ingre_count': '3', 'ingre_unit': '개'}, {'ingre_name': '양송이버섯', 'ingre_count': '5', 'ingre_unit': '개'}, {'ingre_name': '다진양파', 'ingre_count': '2', 'ingre_unit': '숟가락'}, {'ingre_name': '다진마늘', 'ingre_count': '1/3', 'ingre_unit': '숟가락'}, {'ingre_name': '올리브유', 'ingre_count': '1', 'ingre_unit': '숟가락'}, {'ingre_name': '우유', 'ingre_count': '1', 'ingre_unit': '종이컵'}, {'ingre_name': '파마산치즈가루', 'ingre_count': '1', 'ingre_unit': '숟가락'}, {'ingre_name': '소금', 'ingre_count': '', 'ingre_unit': '약간'}, {'ingre_name': '후추', 'ingre_count': '', 'ingre_unit': '약간'}], 'reci': ['1. 양송이버섯은 채 썰고 고구마는 작게 썬다.고구마는 작은거 3개, 큰거 1/2개 분량이에요. ', '2. 팬에 올리브유를 두르고 양파, 마늘을 볶는다.', '3. 양파가 투명해지면 고구마, 양송이버섯을 넣고 볶는다.', '4. 밥을 넣어 볶다가 소금, 후추로 간 한다.', '5. 우유, 파마산치즈가루를 넣고 졸인 뒤 파슬리가루를 뿌려 완성한다.']}\n"
     ]
    },
    {
     "name": "stdout",
     "output_type": "stream",
     "text": [
      "{'id': 13, 'name': '별다방에서 보았던  카페라떼케이크  집에서 보틀케이크로 만들어요 ♥', 'img': 'https://recipe1.ezmember.co.kr/cache/recipe/2020/10/14/253920081a046e31d72751c2d7969c731.jpg', 'ingre': [{'ingre_name': '시판용카스텔라', 'ingre_count': '2', 'ingre_unit': '개'}, {'ingre_name': '초코시럽', 'ingre_count': '120', 'ingre_unit': 'g'}, {'ingre_name': '생크림', 'ingre_count': '450', 'ingre_unit': 'g'}, {'ingre_name': '마스카포네치즈', 'ingre_count': '50', 'ingre_unit': 'g'}, {'ingre_name': '설탕', 'ingre_count': '40', 'ingre_unit': 'g'}, {'ingre_name': '연유', 'ingre_count': '20', 'ingre_unit': 'g'}, {'ingre_name': '인스턴트커피', 'ingre_count': '2', 'ingre_unit': 'T'}, {'ingre_name': '뜨거운물', 'ingre_count': '1', 'ingre_unit': 'T'}, {'ingre_name': '연유', 'ingre_count': '10', 'ingre_unit': 'g'}], 'reci': ['1. 시판용 카스텔라는 두께 1cm, 지름 5cm 원형으로 자른다.', '2. 인스턴트커피에 뜨거운물을 넣고 잘 섞은 후 연유를 넣고 커피액을 만든다.', '3. 볼에 마스카포네치즈, 생크림, 설탕, 연유를 넣고 핸드믹서로 묽게 휘핑한다.', '4. 휘핑한 크림 200g은 따로 덜어두고 나머지 생크림에 커피액을 넣고 거품기로 섞어 커피크림을 만든다.', '5. 컵에 초코시럽>커피크림>카스텔라>생크림를 넣어 완성한다.']}\n",
      "{'id': 14, 'name': '매력적인 튀김안주를 찾으신다면?!  쥐포튀김  을 꼭 만들어보세요 ♥', 'img': 'https://recipe1.ezmember.co.kr/cache/recipe/2020/10/12/38b96f4df0a87a3137ed9328cb2271521.jpg', 'ingre': [{'ingre_name': '쥐포', 'ingre_count': '4', 'ingre_unit': '장'}, {'ingre_name': '튀김가루', 'ingre_count': '1', 'ingre_unit': '종이컵'}, {'ingre_name': '물', 'ingre_count': '2/3', 'ingre_unit': '종이컵'}, {'ingre_name': '파슬리가루', 'ingre_count': '', 'ingre_unit': '약간'}, {'ingre_name': '마요네즈', 'ingre_count': '3', 'ingre_unit': '숟가락'}, {'ingre_name': '식초', 'ingre_count': '1/2', 'ingre_unit': '숟가락'}, {'ingre_name': '설탕', 'ingre_count': '1', 'ingre_unit': '숟가락'}, {'ingre_name': '고춧가루', 'ingre_count': '1/2', 'ingre_unit': '숟가락'}, {'ingre_name': '마요네즈', 'ingre_count': '3', 'ingre_unit': '숟가락'}, {'ingre_name': '간장', 'ingre_count': '2/3', 'ingre_unit': '숟가락'}, {'ingre_name': '청양고추', 'ingre_count': '1/2', 'ingre_unit': '개'}], 'reci': ['1. 쥐포는 길게 한 입 크기로 자른다.', '2. 튀김가루, 파슬리가루, 물을 넣고 반죽을 만든다.', '3. 170도로 예열된 기름에 쥐포튀김을 넣어 노릇하게 튀긴다.', '4. 소스를 만들어 쥐포튀김에 곁들여 완성한다.']}\n",
      "{'id': 15, 'name': '큼직한 떡갈비의 엄청난 존재감! 떡갈비김밥', 'img': 'https://recipe1.ezmember.co.kr/cache/recipe/2020/10/15/e725f1a345056f62a3116a739953acf51.jpg', 'ingre': [{'ingre_name': '오뚜기오즈키친떡갈비', 'ingre_count': '1', 'ingre_unit': '개'}, {'ingre_name': '오뚜기밥', 'ingre_count': '1', 'ingre_unit': '개'}, {'ingre_name': '김밥용김', 'ingre_count': '2', 'ingre_unit': '장'}, {'ingre_name': '오뚜기1등급란', 'ingre_count': '2', 'ingre_unit': '개'}, {'ingre_name': '단무지', 'ingre_count': '2', 'ingre_unit': '줄'}, {'ingre_name': '맛살', 'ingre_count': '2', 'ingre_unit': '줄'}, {'ingre_name': '소금', 'ingre_count': '', 'ingre_unit': '약간'}, {'ingre_name': '오뚜기고소한참기름', 'ingre_count': '1/2', 'ingre_unit': '숟가락'}, {'ingre_name': '오뚜기옛날볶음참깨', 'ingre_count': '1/2', 'ingre_unit': '숟가락'}, {'ingre_name': '오뚜기프레스코카놀라유', 'ingre_count': '', 'ingre_unit': '약간'}, {'ingre_name': '깻잎', 'ingre_count': '2', 'ingre_unit': '장'}], 'reci': ['1. 떡갈비는 에어프라이어에 170도로 10분 간 조리해요.에어프라이어', '2. 조리한 떡갈비는 길게 4등분해요.', '3. 오뚜기밥을 전자레인지에 2분 간 돌려 참기름과 소금, 깨로 간을 해요.전자레인지', '4. 달걀을 풀어 소금간을 하고, 지단을 부쳐 길게 썰거나 채 썰어요.', '5. 깻잎은 손질하고, 맛살은 후라이팬에 기름을 넣어 약간 구워요.', '6. 당근은 채 썰어 카놀라유를 두른 팬에 볶아요.', '7. 김 위에 밥, 재료, 떡갈비를 순서대로 올려 말아요.', '8. 겉면에 참기름을 약간 바르고 깨를 뿌려 완성해요.']}\n",
      "{'id': 16, 'name': '직접 튀겨 만든 짜파치킨 ! 소스만 있으면 남은 치킨활용 OK ', 'img': 'https://recipe1.ezmember.co.kr/cache/recipe/2020/10/12/76256ca8aae5984c1f71d7130f0699d41.jpg', 'ingre': [{'ingre_name': '닭', 'ingre_count': '1', 'ingre_unit': '마리'}, {'ingre_name': '감자전분', 'ingre_count': '', 'ingre_unit': '적당량'}, {'ingre_name': '다진마늘', 'ingre_count': '1', 'ingre_unit': '숟가락'}, {'ingre_name': '다진생강', 'ingre_count': '1', 'ingre_unit': '숟가락'}, {'ingre_name': '청주', 'ingre_count': '2', 'ingre_unit': '숟가락'}, {'ingre_name': '청양고추', 'ingre_count': '', 'ingre_unit': '약간'}, {'ingre_name': '볶은춘장', 'ingre_count': '3', 'ingre_unit': '숟가락'}, {'ingre_name': '물', 'ingre_count': '1/2', 'ingre_unit': '종이컵'}, {'ingre_name': '설탕', 'ingre_count': '2', 'ingre_unit': '숟가락'}, {'ingre_name': '간장', 'ingre_count': '2', 'ingre_unit': '숟가락'}, {'ingre_name': '굴소스', 'ingre_count': '1', 'ingre_unit': '숟가락'}, {'ingre_name': '소금', 'ingre_count': '1/3', 'ingre_unit': '숟가락'}, {'ingre_name': '후추', 'ingre_count': '', 'ingre_unit': '약간'}, {'ingre_name': '청주', 'ingre_count': '2', 'ingre_unit': '숟가락'}], 'reci': ['1. 깨끗이 세척한 닭은 칼집을 내어 소금, 후추, 청주로 밑간을 한다', '2. 전분가루를 골고루 묻힌다.', '3. 180도로 예열된 기름에 2번 튀긴다.', '4. 팬에 식용유 2숟가락, 다진마늘, 다진 생강을 넣고 향을 낸다.', '5. 볶은 춘장을 넣고 볶은 뒤 간장, 굴소스, 물, 설탕을 넣고 바글바글 끓인다.타지 않게 약불로 볶아주세요 ', '6. 튀긴 닭을 넣고 버무려 다진 청양고추를 뿌려 완성한다.']}\n",
      "{'id': 17, 'name': '맛있어서 놀랜다! 진짬뽕을 더 맛있게 먹는 방법! 에그인짬뽕 ♥', 'img': 'https://recipe1.ezmember.co.kr/cache/recipe/2020/10/07/56bf3537649735cc329a70d66c42436a1.png', 'ingre': [{'ingre_name': '짬뽕라면', 'ingre_count': '1', 'ingre_unit': '개'}, {'ingre_name': '달걀', 'ingre_count': '2', 'ingre_unit': '개'}, {'ingre_name': '양파', 'ingre_count': '1/4', 'ingre_unit': '개'}, {'ingre_name': '청양고추', 'ingre_count': '2', 'ingre_unit': '개'}, {'ingre_name': '모짜렐라치즈', 'ingre_count': '', 'ingre_unit': '적당량'}, {'ingre_name': '토마토소스', 'ingre_count': '1/2', 'ingre_unit': '종이컵'}, {'ingre_name': '물', 'ingre_count': '2', 'ingre_unit': '종이컵'}, {'ingre_name': '고춧가루', 'ingre_count': '1', 'ingre_unit': '숟가락'}, {'ingre_name': '후추', 'ingre_count': '', 'ingre_unit': '약간'}], 'reci': ['1. 양파는 채 썰고 청양고추는 송송 썬다.', '2. 팬에 라면에 동봉되어 있는 향미유를 두르고 양파를 볶다가 고춧가루, 후추를 넣고 살짝 더 볶는다.', '3. 토마토소스, 물을 넣고 끓어 오르면 라면과 액상스프를 반만 넣어 끓인다.', '4. 면이 반쯤 익으면 달걀을 깨뜨려 넣고 모짜렐라 치즈를 뿌린다.', '5. 치즈가 녹으면 송송 썬 청양고추를 올려 완성한다.']}\n",
      "{'id': 18, 'name': '쌓여가는 피부독소! 김소형한의사와 함께 피부해독주스 만들어보세요! ', 'img': 'https://recipe1.ezmember.co.kr/cache/recipe/2020/10/07/2c8d680d87fbba45548a80191f8f11811.png', 'ingre': [{'ingre_name': '양배추', 'ingre_count': '1/5', 'ingre_unit': '개'}, {'ingre_name': '토마토', 'ingre_count': '2', 'ingre_unit': '개'}, {'ingre_name': '당근', 'ingre_count': '1/2', 'ingre_unit': '개'}, {'ingre_name': '사과', 'ingre_count': '1', 'ingre_unit': '개'}], 'reci': ['1. 토마토는 꼭지만 제거하고, 사과는 씨 부분을 도려 내고. 적당한 크기로 자른다.', '2. 당근, 양배추는 깨끗이 씻어 적당한 크기로 자른다.', '3. 믹서기에 모든 재료를 넣고 갈아 완성한다.']}\n",
      "{'id': 19, 'name': '구운채소샐러드 : 왜 구운 채소가 더 좋은지를 알아보고 다이어트시작하세요! ', 'img': 'https://recipe1.ezmember.co.kr/cache/recipe/2020/10/12/2dfaf9e722dbbe466ed3263d29dfbbe61.png', 'ingre': [], 'reci': ['1. 애호박는 어슷 썰고 가지는 길게 슬라이스한다.', '2. 팬에 오일을 두르고 애호박, 가지를 굽는다.', '3. 파프리카는 불 위에 올리고 겉이 새까매지도록 계속 태운다.', '4. 겉이 완전히 탄 파프리카는 빠른 속도로 껍질을 벗긴다.', '5. 껍질 벗긴 파프리카는 씨를 제거하고 물기를 제거한 후 먹기 좋은 크기로 자른다.', '6. 드레싱 재료를 올리브 오일을 제외하고 가볍게 섞는다.', '7. 잘 섞인 드레싱 재료에 올리브오일을 천천히 잘 섞는다.', '8. 접시에 로메인과 채소를 올린다.', '9. 드레싱을 곁들인다.']}\n"
     ]
    }
   ],
   "source": [
    "import requests\n",
    "from bs4 import BeautifulSoup as bs\n",
    "from urllib.parse import urljoin\n",
    "import re\n",
    "import json\n",
    "import urllib.request\n",
    "\n",
    "\n",
    "file_path = '/refrigerator project/recipe.json'\n",
    "def toJson(recipe_dict):\n",
    "    with open(file_path, 'w', encoding='utf-8') as file:\n",
    "        json.dump(recipe_dict, file, ensure_ascii=False, indent='\\t')\n",
    "\n",
    "\n",
    "def url_func(n,m):\n",
    "    url = 'https://www.10000recipe.com/profile/recipe.html?uid=gdubu33&page='\n",
    "    url_list = []\n",
    "    \n",
    "    for num in range(n,m):\n",
    "        req = urllib.request.Request(url + str(num))\n",
    "        html = urllib.request.urlopen(url).read()\n",
    "        soup = BeautifulSoup(html, 'html.parser')\n",
    "        \n",
    "        try:\n",
    "            res = soup.find(class_='cont_list st3')\n",
    "            for i in res.find_all('a'):\n",
    "                url_tmp = i.get('href')\n",
    "                url_list.append(url_tmp)\n",
    "        except(AttributeError):\n",
    "            pass\n",
    "    return url_list\n",
    "        \n",
    "        \n",
    "# url = 'https://www.10000recipe.com/recipe/6876875'\n",
    "# response = requests.get(url)\n",
    "# html = response.text\n",
    "\n",
    "# soup = BeautifulSoup(html, 'html.parser')\n",
    "num_id = 0\n",
    "food_dicts = []\n",
    "url_lists = url_func(1,2)\n",
    "\n",
    "for url_str in url_lists:\n",
    "    url = 'https://www.10000recipe.com'\n",
    "    url = url + url_str\n",
    "    response = requests.get(url)\n",
    "    html = response.text\n",
    "    soup = BeautifulSoup(html, 'html.parser')\n",
    "\n",
    "    #menu name\n",
    "    res = soup.find('div', 'view2_summary')\n",
    "    res = res.find('h3')\n",
    "    menu_name = res.get_text().replace('\\n',' ').replace('\"','')\n",
    "\n",
    "    #menu image\n",
    "    res = soup.find('div', 'centeredcrop')\n",
    "    res = res.find('img')\n",
    "    menu_img = res.get('src')\n",
    "\n",
    "    # ingredients\n",
    "    res = soup.find('div','ready_ingre3')\n",
    "    ingre_dict = {}\n",
    "    ingre_list = []\n",
    "    try:\n",
    "        for n in res.find_all('ul'):\n",
    "            for tmp in n.find_all('li'):\n",
    "                ingredient_name = tmp.get_text().replace('\\n','').replace(' ','')\n",
    "                count = tmp.find('span')\n",
    "                ingredient_tmp = count.get_text()\n",
    "                ingredient_name = re.sub(ingredient_tmp, '',ingredient_name)\n",
    "                ingredient_unit = ingredient_tmp.replace('/','').replace('+','')\n",
    "                ingredient_unit = ''.join([i for i in ingredient_unit if not i.isdigit()])\n",
    "                ingredient_count = re.sub(ingredient_unit, '', ingredient_tmp)\n",
    "\n",
    "                ingre_dict = {\"ingre_name\": ingredient_name,\n",
    "                             \"ingre_count\": ingredient_count,\n",
    "                             \"ingre_unit\": ingredient_unit}\n",
    "\n",
    "                ingre_list.append(ingre_dict)\n",
    "    except(AttributeError):\n",
    "        pass\n",
    "\n",
    "    # recipe\n",
    "    recipe_list = []\n",
    "    res = soup.find('div','view_step')\n",
    "    ind = 1\n",
    "    for n in res.find_all('div', 'view_step_cont'):\n",
    "        recipe_step_txt = n.get_text().replace('\\n',' ')\n",
    "        recipe_list.append(str(ind) + '. ' + recipe_step_txt)\n",
    "        ind += 1\n",
    "\n",
    "    food_dict = {\"id\":num_id,\n",
    "                \"name\":menu_name,\n",
    "                \"img\":menu_img,\n",
    "                \"ingre\":ingre_list,\n",
    "                \"reci\":recipe_list}\n",
    "    num_id += 1\n",
    "    food_dicts.append(food_dict)\n",
    "    print(food_dict)\n",
    "\n",
    "toJson(food_dicts)"
   ]
  },
  {
   "cell_type": "code",
   "execution_count": 32,
   "metadata": {},
   "outputs": [],
   "source": [
    "toJson(food_dicts)"
   ]
  },
  {
   "cell_type": "code",
   "execution_count": 37,
   "metadata": {},
   "outputs": [
    {
     "name": "stdout",
     "output_type": "stream",
     "text": [
      "['1. 무, 당근을 6cm 길이로 채썬다.                     \\r                             네오플램 피카 쁘띠웍                          ', '2. 냄비에 식초, 설탕, 소금을 넣고 설탕이 녹을 때까지 끓인다.', '3. 무, 당근에 부어 한김 식으면 냉장고에서 2시간이상 절인다.', '4. 절구에 마늘, 통후추,코리앤더씨드를 빻은 후 굴소스, 피쉬소스, 설탕을 넣고 마리네이드소스를 만든다.                     \\r                             제이미올리버 돌절구                          ', '5. 손질한 닭에 마리네이드소스를 고루 바른다.', '6. 쌀가루, 튀김가루, 소금을 잘 섞은 후 마리네이드 된 닭에 반죽옷을 입힌다.', '7. 180도로 예열된 기름에 2번 튀겨 무절임과 곁들여 완성한다.']\n"
     ]
    }
   ],
   "source": [
    "url = 'https://www.10000recipe.com/recipe/6945097'\n",
    "response = requests.get(url)\n",
    "html = response.text\n",
    "soup = BeautifulSoup(html, 'html.parser')\n",
    "\n",
    "recipe_list = []\n",
    "recipe_dict = []\n",
    "res = soup.find('div','view_step')\n",
    "ind = 1\n",
    "for n in res.find_all('div', 'view_step_cont', 'media-body'):\n",
    "    recipe_step_txt = n.get_text().replace('\\n',' ')\n",
    "    recipe_dict = {\"txt\":recipe_step_txt}\n",
    "    recipe_list.append(str(ind) + '. ' + recipe_step_txt)\n",
    "    ind += 1\n",
    "print(recipe_list)"
   ]
  },
  {
   "cell_type": "code",
   "execution_count": 70,
   "metadata": {},
   "outputs": [
    {
     "name": "stdout",
     "output_type": "stream",
     "text": [
      "['1. 무, 당근을 6cm 길이로 채썬다.', '2. 냄비에 식초, 설탕, 소금을 넣고 설탕이 녹을 때까지 끓인다.', '3. 무, 당근에 부어 한김 식으면 냉장고에서 2시간이상 절인다.', '4. 절구에 마늘, 통후추,코리앤더씨드를 빻은 후 굴소스, 피쉬소스, 설탕을 넣고 마리네이드소스를 만든다.', '5. 손질한 닭에 마리네이드소스를 고루 바른다.', '6. 쌀가루, 튀김가루, 소금을 잘 섞은 후 마리네이드 된 닭에 반죽옷을 입힌다.', '7. 180도로 예열된 기름에 2번 튀겨 무절임과 곁들여 완성한다.']\n"
     ]
    }
   ],
   "source": [
    "url = 'https://www.10000recipe.com/recipe/6945097'\n",
    "response = requests.get(url)\n",
    "html = response.text\n",
    "soup = BeautifulSoup(html, 'html.parser')\n",
    "\n",
    "recipe_list = []\n",
    "res = soup.find('div','view_step')\n",
    "ind = 1\n",
    "for n in res.find_all('div', 'view_step_cont'):\n",
    "    recipe_step_txt = n.get_text().replace('\\n',' ').split('   ')[0]\n",
    "    recipe_list.append(str(ind) + '. ' + recipe_step_txt)\n",
    "    ind += 1\n",
    "print(recipe_list)"
   ]
  },
  {
   "cell_type": "code",
   "execution_count": null,
   "metadata": {},
   "outputs": [],
   "source": [
    "import requests\n",
    "from bs4 import BeautifulSoup as bs\n",
    "from urllib.parse import urljoin\n",
    "import re\n",
    "import json\n",
    "import urllib.request\n",
    "\n",
    "\n",
    "file_path = '/refrigerator project/recipe.json'\n",
    "def toJson(recipe_dict):\n",
    "    with open(file_path, 'w', encoding='utf-8') as file:\n",
    "        json.dump(recipe_dict, file, ensure_ascii=False, indent='\\t')\n",
    "\n",
    "\n",
    "def url_func(n,m):\n",
    "    url = 'https://www.10000recipe.com/profile/recipe.html?uid=gdubu33&page='\n",
    "    url_list = []\n",
    "    \n",
    "    for num in range(n,m):\n",
    "        req = urllib.request.Request(url + str(num))\n",
    "        html = urllib.request.urlopen(url).read()\n",
    "        soup = BeautifulSoup(html, 'html.parser')\n",
    "        \n",
    "        try:\n",
    "            res = soup.find(class_='cont_list st3')\n",
    "            for i in res.find_all('a'):\n",
    "                url_tmp = i.get('href')\n",
    "                url_list.append(url_tmp)\n",
    "        except(AttributeError):\n",
    "            pass\n",
    "    return url_list\n",
    "        \n",
    "        \n",
    "# url = 'https://www.10000recipe.com/recipe/6876875'\n",
    "# response = requests.get(url)\n",
    "# html = response.text\n",
    "\n",
    "# soup = BeautifulSoup(html, 'html.parser')\n",
    "num_id = 0\n",
    "food_dicts = []\n",
    "url_lists = url_func(1,2)\n",
    "\n",
    "for url_str in url_lists:\n",
    "    url = 'https://www.10000recipe.com'\n",
    "    url = url + url_str\n",
    "    response = requests.get(url)\n",
    "    html = response.text\n",
    "    soup = BeautifulSoup(html, 'html.parser')\n",
    "\n",
    "    #menu name\n",
    "    res = soup.find('div', 'view2_summary')\n",
    "    res = res.find('h3')\n",
    "    menu_name = res.get_text().replace('\\n',' ').replace('\"','')\n",
    "\n",
    "    #menu image\n",
    "    res = soup.find('div', 'centeredcrop')\n",
    "    res = res.find('img')\n",
    "    menu_img = res.get('src')\n",
    "\n",
    "    # ingredients\n",
    "    res = soup.find('div','ready_ingre3')\n",
    "    ingre_dict = {}\n",
    "    ingre_list = []\n",
    "    try:\n",
    "        for n in res.find_all('ul'):\n",
    "            for tmp in n.find_all('li'):\n",
    "                ingredient_name = tmp.get_text().replace('\\n','').replace(' ','')\n",
    "                count = tmp.find('span')\n",
    "                ingredient_tmp = count.get_text()\n",
    "                ingredient_name = re.sub(ingredient_tmp, '',ingredient_name)\n",
    "                ingre_list.append(ingredient_namea)\n",
    "    except(AttributeError):\n",
    "        pass\n",
    "\n",
    "    # recipe\n",
    "    recipe_list = []\n",
    "    res = soup.find('div','view_step')\n",
    "    ind = 1\n",
    "    for n in res.find_all('div', 'view_step_cont'):\n",
    "        recipe_step_txt = n.get_text().replace('\\n',' ').split('   ')[0]\n",
    "        recipe_list.append(str(ind) + '. ' + recipe_step_txt)\n",
    "        ind += 1\n",
    "\n",
    "    food_dict = {\"id\":num_id,\n",
    "                \"name\":menu_name,\n",
    "                \"img\":menu_img,\n",
    "                \"ingre\":ingre_list,\n",
    "                \"reci\":recipe_list}\n",
    "    num_id += 1\n",
    "    food_dicts.append(food_dict)\n",
    "    print(food_dict)\n",
    "\n",
    "toJson(food_dicts)"
   ]
  },
  {
   "cell_type": "code",
   "execution_count": null,
   "metadata": {},
   "outputs": [],
   "source": []
  }
 ],
 "metadata": {
  "kernelspec": {
   "display_name": "Python 3",
   "language": "python",
   "name": "python3"
  },
  "language_info": {
   "codemirror_mode": {
    "name": "ipython",
    "version": 3
   },
   "file_extension": ".py",
   "mimetype": "text/x-python",
   "name": "python",
   "nbconvert_exporter": "python",
   "pygments_lexer": "ipython3",
   "version": "3.7.9"
  }
 },
 "nbformat": 4,
 "nbformat_minor": 4
}
