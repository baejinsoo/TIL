{
 "cells": [
  {
   "cell_type": "code",
   "execution_count": 6,
   "metadata": {},
   "outputs": [
    {
     "name": "stdout",
     "output_type": "stream",
     "text": [
      "{\"message\":{\"@type\":\"response\",\"@service\":\"naverservice.nmt.proxy\",\"@version\":\"1.0.0\",\"result\":{\"srcLangType\":\"en\",\"tarLangType\":\"ko\",\"translatedText\":\"어제 나의 모든 고민들은 너무나 멀리 있는 것 같았다.\",\"engineType\":\"N2MT\",\"pivot\":null}}}\n"
     ]
    }
   ],
   "source": [
    "import os\n",
    "import sys\n",
    "import urllib.request\n",
    "\n",
    "client_id = '5ETn8fO_TKvIbztHGXZ9'\n",
    "client_secret = 'CNJMtFl_vq'\n",
    "\n",
    "en_Text = urllib.parse.quote('Yesterday all my troubles seemed so far away')\n",
    "data = 'source=en&target=ko&text=' + en_Text\n",
    "url = \"https://openapi.naver.com/v1/papago/n2mt\"\n",
    "request = urllib.request.Request(url)\n",
    "request.add_header(\"X-Naver-Client-Id\",client_id)\n",
    "request.add_header(\"X-Naver-Client-Secret\",client_secret)\n",
    "response = urllib.request.urlopen(request, data=data.encode(\"utf-8\"))\n",
    "rescode = response.getcode()\n",
    "if(rescode==200):\n",
    "    response_body = response.read()\n",
    "    print(response_body.decode('utf-8'))\n",
    "else:\n",
    "    print(\"Error Code:\" + rescode)"
   ]
  },
  {
   "cell_type": "code",
   "execution_count": 18,
   "metadata": {},
   "outputs": [
    {
     "data": {
      "text/plain": [
       "'어제 나의 모든 고민들은 너무나 멀리 있는 것 같았다.'"
      ]
     },
     "execution_count": 18,
     "metadata": {},
     "output_type": "execute_result"
    }
   ],
   "source": [
    "import requests\n",
    "\n",
    "client_id = '5ETn8fO_TKvIbztHGXZ9'\n",
    "client_secret = 'CNJMtFl_vq'\n",
    "url = \"https://openapi.naver.com/v1/papago/n2mt\"\n",
    "en_Text = 'Yesterday all my troubles seemed so far away'\n",
    "\n",
    "req_headers = {\n",
    "    \"X-Naver-Client-Id\": client_id,\n",
    "    \"X-Naver-Client-Secret\": client_secret\n",
    "}\n",
    "\n",
    "params = {\n",
    "    'source': 'en',\n",
    "    'target': 'ko',\n",
    "    'text': en_Text\n",
    "}\n",
    "\n",
    "response = requests.post(url, headers=req_headers, data= params)\n",
    "\n",
    "if response.status_code == 200:\n",
    "    pass\n",
    "else:\n",
    "    print('Error Code', response.status_code)\n",
    "\n",
    "myjson = response.json()\n",
    "myjson['message']['result']['translatedText']\n",
    "\n"
   ]
  },
  {
   "cell_type": "code",
   "execution_count": 21,
   "metadata": {},
   "outputs": [
    {
     "name": "stdout",
     "output_type": "stream",
     "text": [
      "어제 나의 모든 고민들은 너무나 멀리 있는 것 같았다.\n"
     ]
    }
   ],
   "source": [
    "import requests\n",
    "from requests import Request, Session\n",
    "\n",
    "client_id = '5ETn8fO_TKvIbztHGXZ9'\n",
    "client_secret = 'CNJMtFl_vq'\n",
    "url = \"https://openapi.naver.com/v1/papago/n2mt\"\n",
    "en_Text = 'Yesterday all my troubles seemed so far away'\n",
    "\n",
    "req_headers = {\n",
    "    \"X-Naver-Client-Id\": client_id,\n",
    "    \"X-Naver-Client-Secret\": client_secret\n",
    "}\n",
    "\n",
    "params = {\n",
    "    'source': 'en',\n",
    "    'target': 'ko',\n",
    "    'text': en_Text\n",
    "}\n",
    "\n",
    "session = Session()\n",
    "request = Request('POST', url, headers=req_headers, data= params)\n",
    "prepped = request.prepare()\n",
    "response = session.send(prepped)\n",
    "\n",
    "if response.status_code == 200:\n",
    "    print(response.json()['message']['result']['translatedText'])\n",
    "else:\n",
    "    print('Error Code', response.status_code)"
   ]
  }
 ],
 "metadata": {
  "kernelspec": {
   "display_name": "Python 3",
   "language": "python",
   "name": "python3"
  },
  "language_info": {
   "codemirror_mode": {
    "name": "ipython",
    "version": 3
   },
   "file_extension": ".py",
   "mimetype": "text/x-python",
   "name": "python",
   "nbconvert_exporter": "python",
   "pygments_lexer": "ipython3",
   "version": "3.7.0"
  }
 },
 "nbformat": 4,
 "nbformat_minor": 2
}
